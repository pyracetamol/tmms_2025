{
 "cells": [
  {
   "cell_type": "code",
   "execution_count": null,
   "id": "a643853a",
   "metadata": {},
   "outputs": [],
   "source": [
    "# EXECUTE THIS CELL\n",
    "import numpy as np\n",
    "import matplotlib.pyplot as plt\n",
    "import seaborn as sns\n",
    "sns.set_context(\"talk\", font_scale=0.8)\n",
    "\n",
    "# Parameters\n",
    "J = 1.0\n",
    "kB = 1.0\n",
    "\n",
    "# Temperature range\n",
    "T = np.linspace(0.1, 10.0, 300)"
   ]
  },
  {
   "cell_type": "markdown",
   "id": "955a941c",
   "metadata": {},
   "source": [
    "In the cell below, input your expression for the free energy per spin $(F/N)$, and execute the cell.\n",
    "\n",
    "If your expression is correct, running the final cell will generate a plot of relevant thermodynamic quantities. You will use this plot to answer Task b.\n",
    "\n",
    "Here is a recap of how common functions are called within Python:\n",
    "\n",
    "| Operation                  |  as Formula          | NumPy `np` Function |\n",
    "|----------------------------|----------------------|---------------------|\n",
    "| Square Root                | $\\sqrt x$            | `np.sqrt(x)`        |\n",
    "| Exponentiation             | $e^x$                | `np.exp(x)`         |\n",
    "| Logarithm (base e)         | $\\ln x$              | `np.log(x)`         |\n",
    "| Logarithm (base 10)        | $\\log_{10} x$        | `np.log10(x)`       |\n",
    "| Sine                       | $\\sin x$             | `np.sin(x)`         |\n",
    "| Cosine                     | $\\cos x$             | `np.cos(x)`         |\n",
    "| Tangent                    | $\\tan x$             | `np.tan(x)`         |\n",
    "| Arcsine                    | $\\arcsin x$          | `np.arcsin(x)`      |\n",
    "| Arccosine                  | $\\arccos x$          | `np.arccos(x)`      |\n",
    "| Arctangent                 | $\\arctan x$          | `np.arctan(x)`      |\n",
    "| Hyperbolic Sine            | $\\sinh x$            | `np.sinh(x)`        |\n",
    "| Hyperbolic Cosine          | $\\cosh x$            | `np.cosh(x)`        |\n",
    "| Hyperbolic Tangent         | $\\tanh x$            | `np.tanh(x)`        |\n",
    "| Power                      | $x^y$                | `np.power(x, y)`    |\n",
    "| Pi (π)                     | $\\pi$                | `np.pi`             |\n",
    "| Euler's Number (e)         | $e$                  | `np.e`              |\n",
    "\n",
    "> Angles are assumed to be in radians."
   ]
  },
  {
   "cell_type": "code",
   "execution_count": null,
   "id": "873557f7",
   "metadata": {},
   "outputs": [],
   "source": [
    "# INPUT YOUR RESULT FOR THE FREE ENERGY PER SPIN (F/N) HERE\n",
    "# Free energy per spin (thermodynamic limit)\n",
    "\n",
    "f = "
   ]
  },
  {
   "cell_type": "code",
   "execution_count": null,
   "id": "c4ccc12a",
   "metadata": {},
   "outputs": [],
   "source": [
    "# EXECUTE THIS CELL\n",
    "\n",
    "\n",
    "# Thermodynamic functions \n",
    "\n",
    "# Average energy per spin: U/N = -J * tanh(J / (kB T))\n",
    "U = -J * np.tanh(J / (kB * T))\n",
    "\n",
    "# Heat capacity per spin: C_V/N = dU/dT\n",
    "# Chain rule: dU/dT = dU/dβ * dβ/dT\n",
    "betaJ = J / (kB * T)\n",
    "sech2_betaJ = 1 / (np.cosh(betaJ)**2)\n",
    "c_V = J**2 / (kB * T**2) * sech2_betaJ\n",
    "\n",
    "# Entropy per spin: S = (U - f)/T\n",
    "S = (U - f) / T\n",
    "\n",
    "# Plotting\n",
    "fig, axs = plt.subplots(3, 1, figsize=(5, 10), sharex=True)\n",
    "\n",
    "# Free energy\n",
    "axs[0].plot(T, f,  color='mediumseagreen')\n",
    "axs[0].set_ylabel(r'$\\frac{F}{N}$')\n",
    "axs[0].grid(alpha=0.5)\n",
    "\n",
    "# Heat capacity\n",
    "axs[1].plot(T, c_V, color='coral')\n",
    "axs[1].set_ylabel(r'$\\frac{C_V}{N}$')\n",
    "axs[1].grid(alpha=0.5)\n",
    "\n",
    "# Entropy\n",
    "axs[2].plot(T, S, color='royalblue')\n",
    "axs[2].set_ylabel(r'$\\frac{S}{N}$')\n",
    "axs[2].set_xlabel(r'$\\frac{k_B T}{J}$')\n",
    "axs[2].axhline(kB * np.log(2), linestyle='--', color='gray', label=r'$k_B \\cdot \\ln(2)$')\n",
    "axs[2].grid(alpha=0.5)\n",
    "axs[2].legend()\n",
    "\n",
    "plt.tight_layout()\n",
    "plt.show()"
   ]
  }
 ],
 "metadata": {
  "kernelspec": {
   "display_name": "tmms25",
   "language": "python",
   "name": "python3"
  },
  "language_info": {
   "codemirror_mode": {
    "name": "ipython",
    "version": 3
   },
   "file_extension": ".py",
   "mimetype": "text/x-python",
   "name": "python",
   "nbconvert_exporter": "python",
   "pygments_lexer": "ipython3",
   "version": "3.10.16"
  }
 },
 "nbformat": 4,
 "nbformat_minor": 5
}
