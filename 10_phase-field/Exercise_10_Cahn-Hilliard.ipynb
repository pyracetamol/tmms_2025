{
 "cells": [
  {
   "cell_type": "code",
   "execution_count": 1,
   "metadata": {},
   "outputs": [],
   "source": [
    "# === EXECUTE THIS CELL ===\n",
    "\n",
    "import numpy as np\n",
    "from scipy.fft import fft2, ifft2\n",
    "import sympy as sp\n",
    "from sympy import *\n",
    "\n",
    "import matplotlib.pyplot as plt\n",
    "from matplotlib import cm\n",
    "from matplotlib import animation\n",
    "from matplotlib.animation import PillowWriter\n",
    "from IPython.display import display, Image\n",
    "\n",
    "import pandas as pd\n",
    "import seaborn as sns\n",
    "sns.set_context(\"talk\")\n",
    "\n",
    "\n",
    "def cahn_hilliard(c0, M, kappa, W, noise, Nsteps, rng_seed):\n",
    "    # === Fixed parameters ===\n",
    "    N = 64\n",
    "    dx = dy = 1.0\n",
    "    L = N * dx\n",
    "    dt = 0.1\n",
    "    energy_interval = 50\n",
    "    snapshot_base = 375\n",
    "\n",
    "    # === Initialization ===\n",
    "    rng = np.random.default_rng(rng_seed)\n",
    "    c = np.empty((Nsteps, N, N), dtype=np.float32)\n",
    "    c[0] = c0 + noise * rng.standard_normal(size=(N, N))\n",
    "\n",
    "    # FFT wavenumbers\n",
    "    kx = np.fft.fftfreq(N, d=dx) * 2 * np.pi\n",
    "    ky = np.fft.fftfreq(N, d=dy) * 2 * np.pi\n",
    "    KX, KY = np.meshgrid(kx, ky, indexing='ij')\n",
    "    K2 = KX**2 + KY**2\n",
    "\n",
    "    # Dealiasing mask (2/3 rule)\n",
    "    kmax_dealias = kx.max() * 2.0 / 3.0\n",
    "    dealias = (np.abs(KX) < kmax_dealias) & (np.abs(KY) < kmax_dealias)\n",
    "\n",
    "    # === Free energy derivative ===\n",
    "    def dfdc(c):\n",
    "        return 2 * W * (c * (1 - c)**2 - (1 - c) * c**2)\n",
    "\n",
    "    # === Compute total free energy ===\n",
    "    def compute_energy(c):\n",
    "        f_bulk = W * c**2 * (1 - c)**2\n",
    "        grad_c_x = np.gradient(c, dx, axis=0)\n",
    "        grad_c_y = np.gradient(c, dy, axis=1)\n",
    "        grad_energy = 0.5 * kappa * (grad_c_x**2 + grad_c_y**2)\n",
    "        return np.sum(f_bulk + grad_energy) * dx * dy\n",
    "\n",
    "    # === Spectral buffer ===\n",
    "    c_hat = fft2(c[0])\n",
    "    dfdc_hat = np.empty((N, N), dtype=np.complex64)\n",
    "\n",
    "    # === Energy tracking ===\n",
    "    energy_records = []\n",
    "\n",
    "    # === Precompute snapshot steps ===\n",
    "    snapshot_steps = [0]\n",
    "    step = snapshot_base\n",
    "    while step < Nsteps:\n",
    "        snapshot_steps.append(step)\n",
    "        step *= 2\n",
    "\n",
    "    # === Time-stepping loop (Cahn-Hilliard solver) ===\n",
    "    for i in range(Nsteps):\n",
    "        if i > 0:\n",
    "            dfdc_hat[:] = fft2(dfdc(c[i - 1]))\n",
    "            dfdc_hat *= dealias\n",
    "            c_hat[:] = (c_hat - dt * K2 * M * dfdc_hat) / (1 + dt * M * kappa * K2**2)\n",
    "            c[i] = ifft2(c_hat).real\n",
    "\n",
    "        # Energy tracking every energy_interval steps\n",
    "        if i % energy_interval == 0:\n",
    "            energy = compute_energy(c[i])\n",
    "            energy_records.append({'step': i, 'time': i * dt, 'energy': energy})\n",
    "\n",
    "        # Plot snapshot if it's a scheduled snapshot step\n",
    "        if i in snapshot_steps or i == Nsteps-1:\n",
    "            plt.figure(figsize=(2.5, 2.5))\n",
    "            plt.imshow(c[i], cmap='plasma', vmin=0.0, vmax=1.0)\n",
    "            plt.title(rf'$c_0={c0}$' + f'\\nstep {i}')\n",
    "            plt.axis('off')\n",
    "            plt.tight_layout()\n",
    "            plt.show()\n",
    "\n",
    "    # === Convert energy records to DataFrame ===\n",
    "    energy_df = pd.DataFrame(energy_records)\n",
    "\n",
    "    # === Mass conservation sanity check ===\n",
    "#    final_mass = c[-1].sum() * dx**2 / L**2\n",
    "#    mass_error = np.abs(c[-1].sum() - c[0].sum()) / c[0].sum()\n",
    "#    print(f\"\\nFinal mass = {final_mass:.3f} ± {mass_error:.1e}\")\n",
    "    \n",
    "    sns.lineplot(x=energy_df[\"step\"], y=energy_df[\"energy\"]/N**2)\n",
    "    plt.xlabel('Step')\n",
    "    plt.ylabel('Free Energy')\n",
    "    plt.grid(alpha=0.5)\n",
    "    plt.tight_layout()\n",
    "    plt.show()\n",
    "\n",
    "    return"
   ]
  },
  {
   "cell_type": "markdown",
   "metadata": {},
   "source": [
    "<details>\n",
    "<summary>What are we doing? (technical explanation)</summary>\n",
    "\n",
    "This program solves the Cahn–Hilliard phase-field equation using a spectral semi-implicit method with Fast Fourier Transforms (FFT) and periodic boundary conditions. We gratefully acknowledge `@elvissoares` for the spectral method implementation.\n",
    "\n",
    "The FFT lets us solve PDEs efficiently in Fourier space, where differential operators become simple algebraic expressions. This is especially useful for the Cahn–Hilliard equation, which involves fourth-order derivatives like $\\nabla^4 c$, expensive to compute with finite differences.\n",
    "\n",
    "In Fourier space:\n",
    "\n",
    "The Laplacian simplifies to:\n",
    "\n",
    "$$\n",
    "\\mathcal{F}[\\nabla^2 c] = -k^2 \\cdot \\hat{c}(k)\n",
    "$$\n",
    "\n",
    "The Cahn–Hilliard equation:\n",
    "\n",
    "$$\n",
    "\\frac{\\partial c}{\\partial t} = M \\nabla^2 \\left( \\frac{\\delta F}{\\delta c} \\right)\n",
    "$$\n",
    "\n",
    "becomes algebraic after FFT:\n",
    "\n",
    "$$\n",
    "\\hat{c}(k, t + \\Delta t) = \\frac{\\hat{c}(k, t) - \\Delta t \\cdot M \\cdot k^2 \\cdot \\widehat{\\delta F/\\delta c}}{1 + \\Delta t \\cdot M \\cdot \\kappa \\cdot k^4}\n",
    "$$\n",
    "\n",
    "This avoids costly numerical differentiation and enables semi-implicit time integration.\n",
    "\n",
    "</details>"
   ]
  },
  {
   "cell_type": "markdown",
   "metadata": {},
   "source": [
    "# Exercise: Cahn-Hilliard Equation and Spinodal Decomposition\n",
    "\n",
    "The free energy density is coded as:\n",
    "$$\n",
    "f(c) = Wc^2(1-c)^2,\n",
    "$$\n",
    "where $0 \\leq c \\leq 1$. All of the parameters used in the simulation are reduced (nondimensional). \n",
    "\n",
    "## Task (a)\n",
    "In the next cell, write the Python expression for the free energy density.\n",
    "Run the code snippet below to visualize the free energy density as a function of the concentration.\n",
    "You should recognize the characteristic shape of this curve from theory.\n",
    "\n",
    "- Identify the stationary points.\n",
    "- Locate the inflection points.\n",
    "- Discuss the implications of this functional analysis for spinodal decomposition."
   ]
  },
  {
   "cell_type": "code",
   "execution_count": 2,
   "metadata": {},
   "outputs": [],
   "source": [
    "def f_c(W, c):\n",
    "    return W * c**2 * (1 - c)**2"
   ]
  },
  {
   "cell_type": "code",
   "execution_count": 3,
   "metadata": {},
   "outputs": [
    {
     "data": {
      "image/png": "[encoded data removed]",
      "text/plain": [
       "<Figure size 640x480 with 1 Axes>"
      ]
     },
     "metadata": {},
     "output_type": "display_data"
    }
   ],
   "source": [
    "# Parameters\n",
    "W = 1.0  # Energy parameter\n",
    "\n",
    "# Create 200 equally spaced concentration values from 0 to 1\n",
    "c = np.linspace(0, 1, 200)\n",
    "\n",
    "# Plot using seaborn styling\n",
    "plt.plot(c, f_c(W,c), color='blue')\n",
    "\n",
    "# Labels and title\n",
    "plt.xlabel('Concentration $c$')\n",
    "plt.ylabel('Free Energy Density $f(c)$')\n",
    "\n",
    "plt.grid(alpha=0.5)\n",
    "plt.tight_layout()\n",
    "plt.show()"
   ]
  },
  {
   "cell_type": "markdown",
   "metadata": {},
   "source": [
    "- Cross-check your analysis by executing the following snippet:"
   ]
  },
  {
   "cell_type": "code",
   "execution_count": 4,
   "metadata": {},
   "outputs": [
    {
     "name": "stdout",
     "output_type": "stream",
     "text": [
      "Stationary points = 0.00, 0.50 and 1.00\n",
      "Inflection points = 0.21 and 0.79\n"
     ]
    }
   ],
   "source": [
    "# Define symbols\n",
    "c, W = sp.symbols('c W', real=True)\n",
    "\n",
    "# First and second derivatives\n",
    "df_dc = sp.diff(f_c(W,c), c)\n",
    "d2f_dc2 = sp.diff(df_dc, c)\n",
    "\n",
    "# Solve for stationary points (df/dc = 0)\n",
    "stationary_points = sp.solve(df_dc, c)\n",
    "print(f\"Stationary points = {sp.N(stationary_points[0]):.2f}, {sp.N(stationary_points[1]):.2f} and {sp.N(stationary_points[2]):.2f}\")\n",
    "\n",
    "# Solve for inflection points (d²f/dc² = 0)\n",
    "inflection_points = sp.solve(d2f_dc2, c)\n",
    "print(f\"Inflection points = {sp.N(inflection_points[0]):.2f} and {sp.N(inflection_points[1]):.2f}\")"
   ]
  },
  {
   "cell_type": "markdown",
   "metadata": {},
   "source": [
    "## Task (b)\n",
    "Run the following program for various initial concentrations $c_0 = 0.5, 0.6, 0.7$, using a mobility of $0.5$ and a gradient coefficient of $0.6$, for $50000$ timesteps.\n",
    "\n",
    "The simulation produces snapshots showing the time evolution of the microstructure and a final plot of the free energy evolution over time.\n",
    "\n",
    "When you adjust the sliders, the simulation executes automatically.\n",
    "\n",
    "For each simulation, compare the initial energy value to the free energy density curve you plotted at the beginning.  \n",
    "Does the initial energy agree with your expectations based on the free energy density curve?\n",
    "\n",
    "> **Hint:** To avoid overwriting your previous results, duplicate the relevant code cells and update the initial concentration value in each copy. This allows you to run multiple simulations sequentially and compare the outcomes."
   ]
  },
  {
   "cell_type": "code",
   "execution_count": 6,
   "metadata": {},
   "outputs": [
    {
     "data": {
      "application/vnd.jupyter.widget-view+json": {
       "model_id": "ac7d41aae4764c518448ed26b0e8c95f",
       "version_major": 2,
       "version_minor": 0
      },
      "text/plain": [
       "interactive(children=(FloatSlider(value=0.75, description='c₀', max=1.0), FloatSlider(value=0.5, description='…"
      ]
     },
     "metadata": {},
     "output_type": "display_data"
    }
   ],
   "source": [
    "import ipywidgets as widgets\n",
    "from ipywidgets import interact\n",
    "\n",
    "interact(\n",
    "    cahn_hilliard,\n",
    "    c0=widgets.FloatSlider(value=0.75, min=0.0, max=1.0, step=0.1, description='c₀'),\n",
    "    M=widgets.FloatSlider(value=0.5, min=0.1, max=2.0, step=0.1, description='M'),\n",
    "    kappa=widgets.FloatSlider(value=0.6, min=0.1, max=2.0, step=0.1, description='κ'),\n",
    "    W=widgets.FloatSlider(value=1.0, min=0.1, max=2.0, step=0.1, description='W'),\n",
    "    noise=widgets.FloatSlider(value=0.01, min=0.002, max=0.5, step=0.001, description='Noise'),\n",
    "    Nsteps=widgets.IntSlider(value=10000, min=1000, max=50000, step=1000, description='Steps'),\n",
    "    rng_seed=widgets.IntText(value=12345, description='Seed')\n",
    ");"
   ]
  },
  {
   "cell_type": "markdown",
   "metadata": {},
   "source": [
    "#### Task (c)\n",
    "Set $c_0 = 0.8$ while keeping all other parameters unchanged. You will notice that the concentration field does not evolve. Explain why this happens.\n",
    "\n",
    "\n",
    "#### Task (d)\n",
    "Fix the problem by adjusting the appropriate parameter. For which new value do you observe the nucleation of the secondary phase?\n",
    "> **Hint:** The appropriate parameter might need to be changed even by orders of magnitude."
   ]
  }
 ],
 "metadata": {
  "kernelspec": {
   "display_name": "tmms25",
   "language": "python",
   "name": "python3"
  },
  "language_info": {
   "codemirror_mode": {
    "name": "ipython",
    "version": 3
   },
   "file_extension": ".py",
   "mimetype": "text/x-python",
   "name": "python",
   "nbconvert_exporter": "python",
   "pygments_lexer": "ipython3",
   "version": "3.11.13"
  }
 },
 "nbformat": 4,
 "nbformat_minor": 2
}
