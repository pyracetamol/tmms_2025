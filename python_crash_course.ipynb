{
 "cells": [
  {
   "cell_type": "markdown",
   "metadata": {},
   "source": [
    "<div style=\"text-align: center;\">\n",
    "    <img src=\"https://encrypted-tbn0.gstatic.com/images?q=tbn:ANd9GcSlquQbehFaMuUwUN32KhAS4AxK7WTUtKuZBQ&s\" alt=\"The Jupyter logo\">\n",
    "</div>"
   ]
  },
  {
   "cell_type": "markdown",
   "metadata": {},
   "source": [
    "A notebook is a shareable document that combines:\n",
    "\n",
    "- computer code,\n",
    "\n",
    "- plain text,\n",
    "\n",
    "- data,\n",
    "\n",
    "- rich visualizations like:\n",
    "\n",
    "    - 3D models,\n",
    "\n",
    "    - charts,\n",
    "\n",
    "    - graphs,\n",
    "\n",
    "    - figures,\n",
    "\n",
    "- and interactive controls.\n",
    "\n",
    "A notebook, along with an editor, provides a fast <strong>interactive</strong> environment for prototyping and explaining code, exploring and visualizing data, and sharing ideas with others.\n",
    "\n",
    "Jupyter Notebook can (and should) become your <em>lab journal</em>, where you collect, document, analyze, and plot your data."
   ]
  },
  {
   "cell_type": "markdown",
   "metadata": {},
   "source": [
    "A notebook is comprised of cells. \n",
    "There are three types of input cells where you can write the content for your\n",
    "notebook:\n",
    "\n",
    "- **Code cells**: The default type of cell, this type of cell consists of executable code.\n",
    "As far as this notebook is concerned, the code you write here will be Python, but\n",
    "Jupyter does provide an option for executing code written in other languages.\n",
    "\n",
    "- **Markdown cells**: This type of cell allows for a rich form of documentation for\n",
    "your code (see below). When executed, the input to a markdown cell is converted\n",
    "into HTML, which can include mathematical equations, font effects, lists, tables,\n",
    "embedded images and videos.\n",
    "\n",
    "- **Raw cells**: Input into this type of cell is not changed by the notebook: its content\n",
    "and formatting is preserved exactly."
   ]
  },
  {
   "cell_type": "markdown",
   "metadata": {},
   "source": [
    "Each cell can consist of more than one line of input, and the cell is not interpreted\n",
    "until you “run” (i.e., execute) it. \n",
    "\n",
    "This is achieved by selecting the appropriate option from the menu bar (under the `Run` drop-down submenu); by clicking the “play” button on the toolbar; or through the following keyboard shortcuts:\n",
    "\n",
    "- **Shift+Enter**: Execute the cell, showing any output, and then move the cursor\n",
    "onto the cell below. If there is no cell below, a new, empty one will be created.\n",
    "\n",
    "- **Ctrl+Enter**: Execute the cell in place, but keep the cursor in the current cell."
   ]
  },
  {
   "cell_type": "markdown",
   "metadata": {},
   "source": [
    "You can insert cells below (above) the current by clicking outside of the cell, or pressing `Esc` to exit the edit mode, and then pressing `B` (`A`).\n",
    "\n",
    "The following cell type is `raw` to show how to create chapter/section/subsection headlines by using a variable number of `#` before your text:"
   ]
  },
  {
   "cell_type": "raw",
   "metadata": {
    "vscode": {
     "languageId": "raw"
    }
   },
   "source": [
    "# Chapter\n",
    "## Section\n",
    "### Subsection\n",
    "#### Subsubsection\n",
    "\n",
    "- a list item\n",
    "    - a sublist item\n",
    "        - and so on\n",
    "        \n",
    "**some bold text**\n",
    "\n",
    "*some italic text*"
   ]
  },
  {
   "cell_type": "markdown",
   "metadata": {},
   "source": [
    "When you write the same commands in Markdown mode, you get:\n",
    "\n",
    "# Chapter\n",
    "## Section\n",
    "### Subsection\n",
    "#### Subsubsection\n",
    "\n",
    "- a list item\n",
    "    - a sublist item\n",
    "        - and so on\n",
    "        \n",
    "**some bold text**\n",
    "\n",
    "*some italic text*"
   ]
  },
  {
   "cell_type": "markdown",
   "metadata": {},
   "source": [
    "In the menu, click `View` and then `Table of Contents`: the outline tab on the left of your workspace reflects the order and hierarchy of your headlines."
   ]
  },
  {
   "cell_type": "markdown",
   "metadata": {},
   "source": [
    "<div class=\"alert alert-block alert-light\">\n",
    "\n",
    "### 1\n",
    "\n",
    "Explore the Jupyter interface:\n",
    "\n",
    "- Toolbar: Learn about different buttons (save, add cell, run cell, stop, etc.).\n",
    "\n",
    "- Cell types: Switch between code and Markdown cells.\n",
    "\n",
    "Learn some keyboard shortcuts:\n",
    "\n",
    "-  `Shift+Enter`: Run the current cell.\n",
    "\n",
    "-  `Ctrl+Enter`: Run the cell and stay in the same cell.\n",
    "\n",
    "-  `A`: Insert a cell above the current cell.\n",
    "\n",
    "-  `B`: Insert a cell below the current cell.\n",
    "\n",
    "-  `C`: Copy the current cell.\n",
    "\n",
    "-  `V`: Paste the copied cell.\n",
    "\n",
    "-  `X`: Delete the current cell.\n",
    " \n",
    "### 2\n",
    "Create a notebook structure using different heading levels:\n",
    "        \n",
    "- Chapter: Python\n",
    "\n",
    "- Section: Python as a basic calculator\n",
    "\n",
    "- Text: Today we are doing some math with Python\n",
    "\n",
    "You can either write everything in a single cell or use a separate cell for each text block. \n",
    "Try both approaches.\n",
    "\n",
    "### 3\n",
    "Learn to create bullet and numbered lists in Markdown:\n",
    "        \n",
    "- Bullet list: Use `-`, `+`, or `*`.\n",
    "- Numbered list: Just type the numbers (`1.`, `2.`, etc.).\n",
    "\n",
    "</div>"
   ]
  },
  {
   "cell_type": "markdown",
   "metadata": {},
   "source": [
    "Markdown can also display mathematical equations using $\\LaTeX$ syntax:\n",
    "\n",
    "\n",
    "$$ \\Delta U = \\left( \\dfrac{\\partial U}{\\partial T} \\right)_V \\Delta T + \\left( \\dfrac{\\partial U}{\\partial V} \\right)_T \\Delta V $$\n",
    "$$ F\\left[ \\Phi,\\nabla \\Phi \\right] = \\int_V f \\left[\\Phi,\\nabla \\Phi \\right] ~dV $$\n",
    "</div>"
   ]
  },
  {
   "cell_type": "markdown",
   "metadata": {},
   "source": [
    "<div style=\"text-align: center;\">\n",
    "    <img src=\"https://upload.wikimedia.org/wikipedia/commons/thumb/f/f8/Python_logo_and_wordmark.svg/972px-Python_logo_and_wordmark.svg.png?20210516005643\" alt=\"The Python logo\" style=\"width: 60%; max-width: 500px;\">\n",
    "</div>"
   ]
  },
  {
   "cell_type": "markdown",
   "metadata": {},
   "source": [
    "<div class=\"alert alert-block alert-info\">\n",
    "\n",
    "# Numbers (Python as calculator) "
   ]
  },
  {
   "cell_type": "markdown",
   "metadata": {},
   "source": [
    "Python can be used as a simple calculator to add, multiply, and subtract numbers. \n",
    "\n",
    "There are three main types of numbers in Python: \n",
    "\n",
    "- integers `int`, \n",
    "\n",
    "- real numbers `float`, \n",
    "\n",
    "- complex numbers `complex`. \n",
    "\n",
    "In an interactive session like a Jupyter Notebook, you can combine these numbers using operators, and the result is immediately displayed.\n",
    "\n",
    "Please note: Calculations must be performed in cells of type `Code`, not in Markdown cells!"
   ]
  },
  {
   "cell_type": "code",
   "execution_count": 3,
   "metadata": {},
   "outputs": [
    {
     "data": {
      "text/plain": [
       "3"
      ]
     },
     "execution_count": 3,
     "metadata": {},
     "output_type": "execute_result"
    }
   ],
   "source": [
    "1 + 2"
   ]
  },
  {
   "cell_type": "code",
   "execution_count": 4,
   "metadata": {},
   "outputs": [
    {
     "data": {
      "text/plain": [
       "1.6666666666666667"
      ]
     },
     "execution_count": 4,
     "metadata": {},
     "output_type": "execute_result"
    }
   ],
   "source": [
    "10 / 6"
   ]
  },
  {
   "cell_type": "code",
   "execution_count": 5,
   "metadata": {},
   "outputs": [
    {
     "data": {
      "text/plain": [
       "5129002329"
      ]
     },
     "execution_count": 5,
     "metadata": {},
     "output_type": "execute_result"
    }
   ],
   "source": [
    "6897 * 743657"
   ]
  },
  {
   "cell_type": "markdown",
   "metadata": {},
   "source": [
    "**A word of caution:**\n",
    "\n",
    "What happens if you enter two lines of calculations and execute the cell? \n",
    "\n",
    "Try something like:"
   ]
  },
  {
   "cell_type": "code",
   "execution_count": 6,
   "metadata": {},
   "outputs": [
    {
     "data": {
      "text/plain": [
       "45"
      ]
     },
     "execution_count": 6,
     "metadata": {},
     "output_type": "execute_result"
    }
   ],
   "source": [
    "3 + 17\n",
    "5 * 9"
   ]
  },
  {
   "cell_type": "markdown",
   "metadata": {},
   "source": [
    "You only see the result of the second calculation (`5 * 9`), which is `45`. This happens because in Python (and most programming languages), the notebook only displays the result of the last expression in a cell by default.\n",
    "\n",
    "To display both results, you need to explicitly tell the notebook to output both calculations. \n",
    "You can use the `print()` function:"
   ]
  },
  {
   "cell_type": "code",
   "execution_count": 7,
   "metadata": {},
   "outputs": [
    {
     "name": "stdout",
     "output_type": "stream",
     "text": [
      "20\n",
      "45\n"
     ]
    }
   ],
   "source": [
    "print(3 + 17)\n",
    "print(5 * 9)"
   ]
  },
  {
   "cell_type": "markdown",
   "metadata": {},
   "source": [
    "####  Comment your code! \n",
    "\n",
    "To make code more understandable, it is good practice to add comments: Everything on a single line following a `#` character is ignored by the Python interpreter and so can be used to write human-readable remarks providing explanation and context to the code."
   ]
  },
  {
   "cell_type": "markdown",
   "metadata": {},
   "source": [
    "Without comments: "
   ]
  },
  {
   "cell_type": "code",
   "execution_count": null,
   "metadata": {},
   "outputs": [],
   "source": [
    "def factorial(n):\n",
    "    result = 1\n",
    "    while n > 0:\n",
    "        result *= n\n",
    "        n -= 1\n",
    "    return result\n",
    "\n",
    "print(factorial(5))"
   ]
  },
  {
   "cell_type": "markdown",
   "metadata": {},
   "source": [
    "<div style=\"display: flex; justify-content: space-between;\">\n",
    "<div style=\"width: 48%; line-height: 1.5;\">\n",
    "With comments: \n",
    "</div>\n",
    "<div style=\"width: 4%;\">\n",
    "</div>\n",
    "<div style=\"width: 48%; line-height: 1.3;color: grey;\">\n",
    "Mit Kommentaren: \n",
    "</div>\n",
    "</div>"
   ]
  },
  {
   "cell_type": "code",
   "execution_count": null,
   "metadata": {},
   "outputs": [],
   "source": [
    "def factorial(n):\n",
    "# Initialize result to 1, as the factorial of 0 is 1 and it is the multiplicative identity\n",
    "    result = 1\n",
    "\n",
    "# Loop through numbers from n down to 1\n",
    "    while n > 0:\n",
    "# Multiply the current result by n\n",
    "        result *= n\n",
    "# Decrement n by 1\n",
    "        n -= 1\n",
    "\n",
    "# Return the computed factorial\n",
    "    return result\n",
    "\n",
    "# Print the factorial of 5 (which is 120)\n",
    "print(factorial(5))"
   ]
  },
  {
   "cell_type": "code",
   "execution_count": null,
   "metadata": {},
   "outputs": [],
   "source": [
    "def factorial(n):\n",
    "    \"\"\"\n",
    "    Compute the factorial of a non-negative integer n.\n",
    "\n",
    "    Parameters\n",
    "    ----------\n",
    "    n : int\n",
    "        The number to compute the factorial of.\n",
    "\n",
    "    Returns\n",
    "    -------\n",
    "    result : int\n",
    "        The factorial of n.\n",
    "    \"\"\"\n",
    "    result = 1\n",
    "    while n > 0:\n",
    "        result *= n\n",
    "        n -= 1\n",
    "    return result\n",
    "\n",
    "print(factorial(5))"
   ]
  },
  {
   "cell_type": "markdown",
   "metadata": {},
   "source": [
    "### Integer (`int`) \n",
    "Represent whole numbers without any fractional part. They can be positive, negative, or zero."
   ]
  },
  {
   "cell_type": "code",
   "execution_count": 9,
   "metadata": {},
   "outputs": [
    {
     "name": "stdout",
     "output_type": "stream",
     "text": [
      "10\n",
      "-5\n",
      "0\n"
     ]
    }
   ],
   "source": [
    "x = 10  # Positive integer\n",
    "y = -5  # Negative integer\n",
    "z = 0   # Zero\n",
    "\n",
    "print(x)\n",
    "print(y)\n",
    "print(z)"
   ]
  },
  {
   "cell_type": "markdown",
   "metadata": {},
   "source": [
    "### Floating-point (`float`) \n",
    "Represent real numbers with a fractional part. They are used to handle decimal values."
   ]
  },
  {
   "cell_type": "code",
   "execution_count": 10,
   "metadata": {},
   "outputs": [
    {
     "name": "stdout",
     "output_type": "stream",
     "text": [
      "3.14\n",
      "-2.718\n",
      "0.0\n",
      "1.7380952380952381\n"
     ]
    }
   ],
   "source": [
    "a = 3.14        # Positive float\n",
    "b = -2.718      # Negative float\n",
    "c = 0.0         # Zero float\n",
    "d = 73/42       # Rational number\n",
    "\n",
    "print(a)\n",
    "print(b)\n",
    "print(c)\n",
    "print(d)"
   ]
  },
  {
   "cell_type": "markdown",
   "metadata": {},
   "source": [
    "> **Note:** It is very important that floating-point numbers use a decimal point (`.`), not a comma, as is common in Germany. Values separated by a comma are interpreted as a tuple in Python, not as a single number."
   ]
  },
  {
   "cell_type": "markdown",
   "metadata": {},
   "source": [
    "<div style=\"text-align: center;\">\n",
    "    <img src=\"https://imgs.xkcd.com/comics/large_number_formats.png\" style=\"width: 60%; max-width: 350px;\">\n",
    "</div>"
   ]
  },
  {
   "cell_type": "markdown",
   "metadata": {},
   "source": [
    "####  Exponential notation\n",
    "\n",
    "In chemistry we often deal with either very small (e.g., Planck's constant) or very large numbers (e.g., Avogadro's number) . \n",
    "\n",
    "To specify these we make use exponential notation, where Planck's constant is written `6.626e-34`, and the Avogadro's number is `6.022e23`. \n",
    "\n",
    "Numbers written in exponential notation are always floating-point (`float`)."
   ]
  },
  {
   "cell_type": "code",
   "execution_count": 11,
   "metadata": {},
   "outputs": [
    {
     "data": {
      "text/plain": [
       "400000.0"
      ]
     },
     "execution_count": 11,
     "metadata": {},
     "output_type": "execute_result"
    }
   ],
   "source": [
    "# Using exponential notation: 4e5 = 4x10^5 = 400000\n",
    "\n",
    "4e5"
   ]
  },
  {
   "cell_type": "markdown",
   "metadata": {},
   "source": [
    "## Key Properties and Operations \n",
    "\n",
    "\n",
    "| Operation            | Result                                        | \n",
    "|----------------------|-----------------------------------------------|\n",
    "| `x + y`              | sum of $x$ and $y$                               |\n",
    "| `x - y`              | difference of $x$ and $y$                        |\n",
    "| `x * y`              | product of $x$ and $y$                           |\n",
    "| `x ** y`             | $x$ to the power $y$                             |\n",
    "| `x / y`              | quotient of $x$ and $y$                          |\n",
    "| `x // y`             | integer division (aka floor division) of $x$ and $y$     |\n",
    "| `x % y`              | remainder (aka modulus $mod$), of $x$ / $y$          | \n",
    "| `divmod(x, y)`       | the pair (`x // y`, `x % y`)                    | \n",
    "| `-x`                 | $x$ negated                                    | \n",
    "| `abs(x)`             | absolute value (magnitude), of $x$             | \n",
    "| `int(x)`             | $x$ converted to integer                       | \n",
    "| `float(x)`           | $x$ converted to floating point                 |"
   ]
  },
  {
   "cell_type": "markdown",
   "metadata": {},
   "source": [
    "<div class=\"alert alert-block alert-light\">\n",
    "\n",
    "#### Exercise\n",
    "\n",
    "Insert as many code cells as you need and apply the various mathematical operations to: \n",
    "\n",
    "- Two integers, $10$ and $6$.\n",
    "- Two floating-point numbers, $3.14$ and $2.71$. \n",
    "\n",
    "Comment on your code snippets. Alternatively, for a more polished presentation, use markdown syntax to explain your steps.\n",
    "\n",
    "- What is the difference between division and integer division?\n",
    "- What is the remainder? \n",
    "- Are all operations supported for every number type?"
   ]
  },
  {
   "cell_type": "markdown",
   "metadata": {},
   "source": [
    "<details>\n",
    "  <summary>Click to reveal the solution</summary>\n",
    "\n",
    "``` python\n",
    "# Integer\n",
    "x = 10\n",
    "y = 6\n",
    "print(\"Integer Operations:\")\n",
    "print(\"Addition:\", x + y)\n",
    "print(\"Subtraction:\", x - y)\n",
    "print(\"Multiplication:\", x * y)\n",
    "print(\"Division:\", x / y)   \n",
    "print(\"Integer Division:\", x // y)\n",
    "print(\"Modulus:\", x % y)\n",
    "print(\"Exponentiation:\", x ** y)\n",
    "\n",
    "# Float\n",
    "a = 3.14\n",
    "b = 2.71\n",
    "print(\"\\nFloating-Point Operations:\")\n",
    "print(\"Addition:\", a + b)\n",
    "print(\"Subtraction:\", a - b)\n",
    "print(\"Multiplication:\", a * b)\n",
    "print(\"Division:\", a / b)\n",
    "print(\"Integer Division:\", a // b)\n",
    "print(\"Modulus:\", a % b)\n",
    "print(\"Exponentiation:\", a ** b)\n",
    "\n",
    "Integer Operations:\n",
    "Addition: 16\n",
    "Subtraction: 4\n",
    "Multiplication: 60\n",
    "Division: 1.6666666666666667\n",
    "Integer Division: 1\n",
    "Modulus: 4\n",
    "Exponentiation: 1000000\n",
    "\n",
    "Floating-Point Operations:\n",
    "Addition: 5.85\n",
    "Subtraction: 0.43000000000000016\n",
    "Multiplication: 8.5094\n",
    "Division: 1.1586715867158672\n",
    "Integer Division: 1.0\n",
    "Modulus: 0.43000000000000016\n",
    "Exponentiation: 22.21668954600232\n",
    "\n",
    "Complex Number Operations:\n",
    "Addition: (4+2j)\n",
    "Subtraction: (2+6j)\n",
    "Multiplication: (11-2j)\n",
    "Division: (-1+2j)\n",
    "Exponentiation: (-21.083139690689016-24.00021070941257j)\n",
    "Conjugate of p: (3-4j)\n",
    "```\n",
    "\n",
    "</details>"
   ]
  },
  {
   "cell_type": "markdown",
   "metadata": {},
   "source": [
    "The result `3.14 - 2.71 = 0.43000000000000016` occurs due to the way floating-point numbers are represented internally in computers.\n",
    "\n",
    "Floating-point numbers are stored in a format that can't precisely represent all decimal numbers.\n",
    "\n",
    "Python (and most programming languages) uses the IEEE 754 standard for floating-point arithmetic, which approximates real numbers with a finite number of binary digits.\n",
    "\n",
    "Some numbers cannot be represented exactly in binary, similar to how `10/6` cannot be represented exactly in decimal as it becomes a repeating decimal, $1.\\bar{6}$.\n",
    "\n",
    "As a result, when Python calculates `3.14 - 2.71`, it performs the subtraction on slightly imprecise representations of those numbers, leading to the tiny difference seen in the output."
   ]
  },
  {
   "cell_type": "markdown",
   "metadata": {},
   "source": [
    "The same happens with `3.14 // 2.71`.\n",
    "\n",
    "Internally, Python calculates:\n",
    "\n",
    "$$\n",
    "\\frac{3.14}{2.71} \\approx 1.15867\n",
    "$$\n",
    "\n",
    "Then, the remainder (modulus) is computed as:\n",
    "$$\n",
    "3.14 - (1 \\times 2.71) = 3.14 - 2.71 = 0.43000000000000016\n",
    "$$\n",
    "\n",
    "which is the subtraction we have just seen."
   ]
  },
  {
   "cell_type": "markdown",
   "metadata": {},
   "source": [
    "### Boolean (`bool`)\n",
    "\n",
    "A subtype of integers representing truth values. There are only two boolean values: `True` and `False`.\n",
    "\n",
    "The `==` operator is used to compare two values for equality: It checks whether the values on the left and right sides of the operator are equal. If they are equal, the expression evaluates to `True`; if not, it evaluates to `False`.\n",
    "\n",
    "**The *equality* operator is `==`: two equals signs, not to be confused with the single equals, `=`, used for assignment.**"
   ]
  },
  {
   "cell_type": "code",
   "execution_count": 15,
   "metadata": {},
   "outputs": [
    {
     "data": {
      "text/plain": [
       "True"
      ]
     },
     "execution_count": 15,
     "metadata": {},
     "output_type": "execute_result"
    }
   ],
   "source": [
    "2 + 2 == 4      # Boolean True"
   ]
  },
  {
   "cell_type": "code",
   "execution_count": 16,
   "metadata": {},
   "outputs": [
    {
     "data": {
      "text/plain": [
       "False"
      ]
     },
     "execution_count": 16,
     "metadata": {},
     "output_type": "execute_result"
    }
   ],
   "source": [
    "2 + 2 == 5      # Boolean False"
   ]
  },
  {
   "cell_type": "markdown",
   "metadata": {},
   "source": [
    "In addition to the equality operator, you find the following comparison operations, too:\n",
    "\n",
    "| Operation | Meaning                        | \n",
    "|-----------|--------------------------------|\n",
    "| `==`      | equal                          |\n",
    "| `!=`      | not equal                     | \n",
    "| `<`       | strictly less than             |\n",
    "| `<=`      | less than or equal            | \n",
    "| `>`       | strictly greater than          |\n",
    "| `>=`      | greater than or equal         | "
   ]
  },
  {
   "cell_type": "markdown",
   "metadata": {},
   "source": [
    "Comparison operators are like questions that help a program decide what to do next (truth value testing). They compare two values and check if one is greater than, less than, or equal to the other. \n",
    "\n",
    "Based on the answer (which is either `True` or `False`), the program can choose to perform certain actions. "
   ]
  },
  {
   "cell_type": "markdown",
   "metadata": {},
   "source": [
    "<div class=\"alert alert-block alert-light\">\n",
    "\n",
    "#### Exercise\n",
    " \n",
    "Evaluate the truthfulness of the following comparisons:\n",
    "\n",
    "a) $3^2 \\times 2 - 5 < \\dfrac{4^2}{2}$\n",
    "\n",
    "b) $2^5 - 3^3 == 7^2 - 20$\n",
    "\n",
    "c) $2^4 - 5 == 11$\n",
    "\n",
    "d) $(6 \\times 3) + 12 \\leq 5^2$\n",
    "\n",
    "e) $9^2 - 5^3 \\neq 2^7 - 1$\n",
    "\n",
    "f) $0.1 + 0.2 == 0.3$\n",
    "\n",
    "g) $0.1^2 == 0.01$\n",
    " \n",
    "Do you notice something strange?"
   ]
  },
  {
   "cell_type": "code",
   "execution_count": 18,
   "metadata": {},
   "outputs": [
    {
     "data": {
      "text/plain": [
       "False"
      ]
     },
     "execution_count": 18,
     "metadata": {},
     "output_type": "execute_result"
    }
   ],
   "source": [
    "1.01 - 0.99 == 0.02"
   ]
  },
  {
   "cell_type": "markdown",
   "metadata": {},
   "source": [
    "### What happened?\n",
    "\n",
    "It is tempting to compare mathematical expressions for equality that are equal on paper. \n",
    "\n",
    "However, we now know that computers have only a finite representation of numbers and that in particular decimal numbers are converted to binary numbers. \n",
    "\n",
    "For this reason a rather harmless expression like *f)* or *g)* can yield quite an unexpected result. Please never compare floating point expressions for equality with the equality operator. \n",
    "\n",
    "We will see an alternative in a few minutes."
   ]
  },
  {
   "cell_type": "markdown",
   "metadata": {},
   "source": [
    "#### Fun fact\n",
    "\n",
    "In Python, *booleans are treated as integers*: `True` is equivalent to `1` and `False` is equivalent to `0`. \n",
    "This means that when performing arithmetic operations, `True` and `False` can be used like integers. \n",
    "\n",
    "For example, the expression `True + True` evaluates to `2`, while `True + False` evaluates to `1`.\n",
    "\n",
    "This can be very convenient, for example, when counting true or false values in the columns of a data table. "
   ]
  },
  {
   "cell_type": "markdown",
   "metadata": {},
   "source": [
    "## More complex mathematical operations\n",
    "\n",
    "One of Python’s biggest strengths is its rich ecosystem of libraries—collections of functions and tools that extend what Python can do. Some come built-in (the “standard library”), while others can be added as needed.\n",
    "\n",
    "To use a library, we simply import it. For working with numerical data efficiently, especially arrays and matrices, a very popular library is **NumPy**.\n",
    "\n",
    "> For convenience, all necessary modules are typically imported at the beginning of the notebook."
   ]
  },
  {
   "cell_type": "code",
   "execution_count": 7,
   "metadata": {},
   "outputs": [],
   "source": [
    "import numpy as np     # only needs to be loaded ONCE per notebook"
   ]
  },
  {
   "cell_type": "markdown",
   "metadata": {},
   "source": [
    "#### Some operators available in NumPy\n",
    "\n",
    "> Angles are assumed to be in radians.\n",
    "\n",
    "| Operation                  |  as Formula          | NumPy `np` Function |\n",
    "|----------------------------|----------------------|---------------------|\n",
    "| Square Root                | $\\sqrt x$            | `np.sqrt(x)`        |\n",
    "| Exponentiation             | $e^x$                | `np.exp(x)`         |\n",
    "| Logarithm (base e)         | $\\ln x$              | `np.log(x)`         |\n",
    "| Logarithm (base 10)        | $\\log_{10} x$        | `np.log10(x)`       |\n",
    "| Sine                       | $\\sin x$             | `np.sin(x)`         |\n",
    "| Cosine                     | $\\cos x$             | `np.cos(x)`         |\n",
    "| Tangent                    | $\\tan x$             | `np.tan(x)`         |\n",
    "| Arcsine                    | $\\arcsin x$          | `np.arcsin(x)`      |\n",
    "| Arccosine                  | $\\arccos x$          | `np.arccos(x)`      |\n",
    "| Arctangent                 | $\\arctan x$          | `np.arctan(x)`      |\n",
    "| Hyperbolic Sine            | $\\sinh x$            | `np.sinh(x)`        |\n",
    "| Hyperbolic Cosine          | $\\cosh x$            | `np.cosh(x)`        |\n",
    "| Hyperbolic Tangent         | $\\tanh x$            | `np.tanh(x)`        |\n",
    "| Convert Degrees to Radians | $x \\frac{\\pi}{180}$  | `np.deg2rad(x)`     |\n",
    "| Convert Radians to Degrees | $x \\frac{180}{\\pi}$  | `np.rad2deg(x)`     |\n",
    "| Power                      | $x^y$                | `np.power(x, y)`    |\n",
    "| Absolute Value             | $\\| x\\|$             | `np.abs(x)`         |\n",
    "| Factorial                  | $n!$                 | `np.factorial(x)`   |\n",
    "| Pi (π)                     | $\\pi$                | `np.pi`             |\n",
    "| Euler's Number (e)         | $e$                  | `np.e`              |"
   ]
  },
  {
   "cell_type": "code",
   "execution_count": null,
   "metadata": {},
   "outputs": [
    {
     "data": {
      "text/plain": [
       "9.0"
      ]
     },
     "execution_count": 23,
     "metadata": {},
     "output_type": "execute_result"
    }
   ],
   "source": [
    "np.sqrt(81) "
   ]
  },
  {
   "cell_type": "code",
   "execution_count": null,
   "metadata": {},
   "outputs": [
    {
     "data": {
      "text/plain": [
       "2.718281828459045"
      ]
     },
     "execution_count": 24,
     "metadata": {},
     "output_type": "execute_result"
    }
   ],
   "source": [
    "np.e"
   ]
  },
  {
   "cell_type": "code",
   "execution_count": null,
   "metadata": {},
   "outputs": [
    {
     "data": {
      "text/plain": [
       "3.141592653589793"
      ]
     },
     "execution_count": 25,
     "metadata": {},
     "output_type": "execute_result"
    }
   ],
   "source": [
    "np.pi "
   ]
  },
  {
   "cell_type": "code",
   "execution_count": null,
   "metadata": {},
   "outputs": [
    {
     "data": {
      "text/plain": [
       "7.0685834705770345"
      ]
     },
     "execution_count": 26,
     "metadata": {},
     "output_type": "execute_result"
    }
   ],
   "source": [
    "# The area of a circle with radius = 1.5 is \n",
    "np.pi * 1.5**2"
   ]
  },
  {
   "cell_type": "markdown",
   "metadata": {},
   "source": [
    "`round` is a function (like `print`) that takes two arguments: it rounds a number (first argument) to a given precision in decimal digits (second argument). If no precision is specified, the number is rounded to the nearest integer:"
   ]
  },
  {
   "cell_type": "code",
   "execution_count": null,
   "metadata": {},
   "outputs": [
    {
     "data": {
      "text/plain": [
       "3.1416"
      ]
     },
     "execution_count": 27,
     "metadata": {},
     "output_type": "execute_result"
    }
   ],
   "source": [
    "round(np.pi, 4)"
   ]
  },
  {
   "cell_type": "code",
   "execution_count": null,
   "metadata": {},
   "outputs": [
    {
     "data": {
      "text/plain": [
       "3"
      ]
     },
     "execution_count": 28,
     "metadata": {},
     "output_type": "execute_result"
    }
   ],
   "source": [
    "round(np.pi)"
   ]
  },
  {
   "cell_type": "markdown",
   "metadata": {},
   "source": [
    "You can use `round` on floating-point numbers before comparing them to avoid floating-point precision issues:"
   ]
  },
  {
   "cell_type": "code",
   "execution_count": 30,
   "metadata": {},
   "outputs": [
    {
     "data": {
      "text/plain": [
       "True"
      ]
     },
     "execution_count": 30,
     "metadata": {},
     "output_type": "execute_result"
    }
   ],
   "source": [
    "round(0.1+0.2, 16) == round(0.3, 16)        # 0.1 + 0.2 and 0.3 are equal up to the 16th digit after the comma"
   ]
  },
  {
   "cell_type": "code",
   "execution_count": 31,
   "metadata": {},
   "outputs": [
    {
     "data": {
      "text/plain": [
       "True"
      ]
     },
     "execution_count": 31,
     "metadata": {},
     "output_type": "execute_result"
    }
   ],
   "source": [
    "0.01 == round(0.1**2, 17)"
   ]
  },
  {
   "cell_type": "markdown",
   "metadata": {},
   "source": [
    "NumPy provides a function, `isclose`, to test whether two floating-point numbers are equal to within a given tolerance (which defaults to `1e-9`):"
   ]
  },
  {
   "cell_type": "code",
   "execution_count": null,
   "metadata": {},
   "outputs": [
    {
     "data": {
      "text/plain": [
       "True"
      ]
     },
     "execution_count": 2,
     "metadata": {},
     "output_type": "execute_result"
    }
   ],
   "source": [
    "np.isclose(0.01, 0.1**2)"
   ]
  },
  {
   "cell_type": "code",
   "execution_count": 3,
   "metadata": {},
   "outputs": [
    {
     "data": {
      "text/plain": [
       "True"
      ]
     },
     "execution_count": 3,
     "metadata": {},
     "output_type": "execute_result"
    }
   ],
   "source": [
    "np.isclose(0.1+0.2, 0.3)"
   ]
  },
  {
   "cell_type": "markdown",
   "metadata": {},
   "source": [
    "<div class=\"alert alert-block alert-info\">\n",
    "\n",
    "# Variables "
   ]
  },
  {
   "cell_type": "markdown",
   "metadata": {},
   "source": [
    "Suppose we want to calculate the desorption rate of a molecule with the Arrhenius equation:\n",
    "\n",
    "$$ k_d = \\nu \\cdot \\exp\\left(-\\frac{E_a}{k_B \\cdot T}\\right)$$\n",
    "\n",
    "using the following values:\n",
    "\n",
    "$$ E_a = 0.875~\\text{eV} $$\n",
    "\n",
    "$$ k_B = 8.617 \\cdot 10^{-5} \\, \\text{eV/K} $$\n",
    "\n",
    "$$ \\nu = 10^{13} \\, \\text{s}^{-1} $$\n",
    "\n",
    "$$ T = 340 \\, \\text{K} $$"
   ]
  },
  {
   "cell_type": "code",
   "execution_count": 6,
   "metadata": {},
   "outputs": [
    {
     "data": {
      "text/plain": [
       "1.0702395508393971"
      ]
     },
     "execution_count": 6,
     "metadata": {},
     "output_type": "execute_result"
    }
   ],
   "source": [
    "1e13 * np.exp(- (0.875/(8.617e-5 * 340)))"
   ]
  },
  {
   "cell_type": "markdown",
   "metadata": {},
   "source": [
    "Writing something like \n",
    "\n",
    "`1e13 * np.exp(- (0.875/(8.617e-5 * 340)))`\n",
    "\n",
    "can be a bit tedious, especially when we want to change values on the fly. \n",
    "\n",
    "It is very easy to miss an instance if you need to dig through your code every time. Furthermore, we might need to reuse those values or the result of our operation later on, and we do not want to copy and paste their numerical value every time.\n",
    "\n",
    "That is why we can assign *variables* to their values.\n",
    "Creating a variable in Python is extremely simple, all we need to do is use the `=` sign! Python automatically assigns a class (i.e., integer, float, string, etc.) to the variable.\n",
    "\n",
    "Once we have created a variable, we can use it anywhere else in our code, and its value will be substituted automatically:"
   ]
  },
  {
   "cell_type": "code",
   "execution_count": null,
   "metadata": {},
   "outputs": [
    {
     "name": "stdout",
     "output_type": "stream",
     "text": [
      "The desorption temperature is 1.070 s^-1\n"
     ]
    }
   ],
   "source": [
    "# Constants\n",
    "E_a = 0.875\n",
    "nu = 1e13      \n",
    "k_B = 8.617e-5 \n",
    "T = 340        \n",
    "\n",
    "# Calculate desorption temperature and assign that result to a variable named T\n",
    "k_d = nu * np.exp(-E_a/(k_B * T))\n",
    "\n",
    "print(f\"The desorption temperature is {k_d:.3f} s^-1\")      # This is an f-string"
   ]
  },
  {
   "cell_type": "markdown",
   "metadata": {},
   "source": [
    "To include variable values directly inside strings, Python provides a convenient feature called **f-strings** (formatted string literals). You create one by placing an `f` in front of a string and using curly braces `{}` to insert variables or expressions.\n",
    "\n",
    "For example:\n",
    "\n",
    "```python\n",
    "print(f\"The desorption temperature is {k_d:.3f} s^-1\")\n",
    "```\n",
    "\n",
    "Here’s what’s happening:\n",
    "\n",
    "- `f\"...{}...\"` tells Python to evaluate what's inside the braces.\n",
    "\n",
    "- `k_d` is the variable being inserted into the string.\n",
    "\n",
    "- `:.3f` is a **format specifier**: it means “format this number as a float with 3 digits after the decimal point.”"
   ]
  },
  {
   "cell_type": "markdown",
   "metadata": {},
   "source": [
    "In general, to work with a variable, you need to begin by selecting the name you want to use. Variable names are ideally short and descriptive. \n",
    "\n",
    "They also need to satisfy several requirements:\n",
    "\n",
    "- They cannot have spaces (e.g., `k B` is NOT allowed)\n",
    "\n",
    "- They can only include letters, numbers, and underscores (e.g., `k_B*` is NOT allowed)\n",
    "\n",
    "- They have to start with a letter or underscore (e.g., `1_k_B` is NOT allowed)\n",
    "\n",
    "Attempting to use a variable before you have created it will result in an error. This is a reason why the cells in a Jupyter notebook should be run in order."
   ]
  },
  {
   "cell_type": "code",
   "execution_count": 37,
   "metadata": {},
   "outputs": [
    {
     "ename": "NameError",
     "evalue": "name 'plasma_frequency' is not defined",
     "output_type": "error",
     "traceback": [
      "\u001b[0;31m---------------------------------------------------------------------------\u001b[0m",
      "\u001b[0;31mNameError\u001b[0m                                 Traceback (most recent call last)",
      "Cell \u001b[0;32mIn[37], line 1\u001b[0m\n\u001b[0;32m----> 1\u001b[0m \u001b[43mplasma_frequency\u001b[49m\n",
      "\u001b[0;31mNameError\u001b[0m: name 'plasma_frequency' is not defined"
     ]
    }
   ],
   "source": [
    "plasma_frequency"
   ]
  },
  {
   "cell_type": "markdown",
   "metadata": {},
   "source": [
    "You can always change the value assigned to a variable by overriding the previous value."
   ]
  },
  {
   "cell_type": "code",
   "execution_count": 38,
   "metadata": {},
   "outputs": [
    {
     "name": "stdout",
     "output_type": "stream",
     "text": [
      "0.875\n",
      "1.3\n",
      "1.522\n"
     ]
    }
   ],
   "source": [
    "# Set the value E_a\n",
    "E_a = 0.875\n",
    "\n",
    "# Print the value assigned to E_a\n",
    "print(E_a)\n",
    "\n",
    "# Change the value of the variable \n",
    "E_a = 1.3\n",
    "\n",
    "# Print the new value\n",
    "print(E_a)\n",
    "\n",
    "# Increase the current value by 0.222\n",
    "E_a = E_a + 0.222\n",
    "\n",
    "# Print the new value\n",
    "print(E_a)"
   ]
  },
  {
   "cell_type": "markdown",
   "metadata": {},
   "source": [
    "Let's take the last expression, `E_a = E_a + 0.222`: \n",
    "\n",
    "It is important to realize that this does not represent some (impossible) mathematical equation to be solved for the number `E_a`, but is rather an instruction to take the value of `E_a`, add `0.222` to it, and then reassign (“rebind”) the name `E_a` to the result. \n",
    "\n",
    "The original value of `1.3` is then “forgotten”. \n",
    "\n",
    "Expressions like this are so common in programming that Python provides a shortcut (`+=`, so-called “augmented assignment”):"
   ]
  },
  {
   "cell_type": "code",
   "execution_count": 39,
   "metadata": {},
   "outputs": [
    {
     "data": {
      "text/plain": [
       "1.522"
      ]
     },
     "execution_count": 39,
     "metadata": {},
     "output_type": "execute_result"
    }
   ],
   "source": [
    "E_a = 1.3\n",
    "\n",
    "E_a += 0.222\n",
    "\n",
    "E_a"
   ]
  },
  {
   "cell_type": "code",
   "execution_count": 40,
   "metadata": {},
   "outputs": [
    {
     "data": {
      "text/plain": [
       "1.3"
      ]
     },
     "execution_count": 40,
     "metadata": {},
     "output_type": "execute_result"
    }
   ],
   "source": [
    "E_a -= 0.222\n",
    "\n",
    "E_a"
   ]
  },
  {
   "cell_type": "code",
   "execution_count": 41,
   "metadata": {},
   "outputs": [
    {
     "data": {
      "text/plain": [
       "0.65"
      ]
     },
     "execution_count": 41,
     "metadata": {},
     "output_type": "execute_result"
    }
   ],
   "source": [
    "E_a /= 2\n",
    "\n",
    "E_a"
   ]
  },
  {
   "cell_type": "code",
   "execution_count": 42,
   "metadata": {},
   "outputs": [
    {
     "data": {
      "text/plain": [
       "1.3"
      ]
     },
     "execution_count": 42,
     "metadata": {},
     "output_type": "execute_result"
    }
   ],
   "source": [
    "E_a *= 2\n",
    "\n",
    "E_a"
   ]
  },
  {
   "cell_type": "markdown",
   "metadata": {},
   "source": [
    "> Another useful shortcut is the use of comma-separated values (actually, tuples) to assign several variables at once, for example:"
   ]
  },
  {
   "cell_type": "code",
   "execution_count": 43,
   "metadata": {},
   "outputs": [
    {
     "name": "stdout",
     "output_type": "stream",
     "text": [
      "10000000000000.0 8.617e-05 1.0 0.875\n"
     ]
    }
   ],
   "source": [
    "nu, k_B, k_d, E_a = 1e13, 8.617e-5, 1., 0.875\n",
    "\n",
    "print(nu, k_B, k_d, E_a)"
   ]
  },
  {
   "cell_type": "markdown",
   "metadata": {},
   "source": [
    "<div class=\"alert alert-block alert-info\">\n",
    "\n",
    "# Plotting Functions"
   ]
  },
  {
   "cell_type": "markdown",
   "metadata": {},
   "source": [
    "## Plotting with Calculated Data Points\n",
    "\n",
    "Performing so-called *vectorized* operations using NumPy allows us to quickly and efficiently calculate mathematical functions when we have their analytical expressions. \n",
    "\n",
    "For instance, let's say we want to plot the function $f(x) = \\sin (x)$.\n",
    "\n",
    "To evaluate a mathematical function in Excel, you would start by creating a column of input values—say, your $x$-values. In the adjacent column, you would write a formula like `=SIN(A1)` in the first row, assuming your $x$ values are in column A.\n",
    "Then you’d drag the formula down to apply it to all $x$ values, resulting in a new column of $y$ values."
   ]
  },
  {
   "cell_type": "markdown",
   "metadata": {},
   "source": [
    "<div style=\"text-align: center;\">\n",
    "    <img src=\"https://d295c5dn8dhwru.cloudfront.net/wp-content/uploads/2019/03/16040843/Figure-2-A-complete-sine-curve-in-excel.png\" style=\"width: 60%; max-width: 500px;\">\n",
    "    <figcaption> Forget about this.</figcaption>\n",
    "</div>"
   ]
  },
  {
   "cell_type": "markdown",
   "metadata": {},
   "source": [
    "With NumPy, we can achieve the same thing much more efficiently using vectorized operations. \n",
    "\n",
    "When we want to create a list of evenly spaced numbers, we can use a NumPy function called `linspace`, which stands for \"linear space\":"
   ]
  },
  {
   "cell_type": "code",
   "execution_count": 8,
   "metadata": {},
   "outputs": [],
   "source": [
    "x_values = np.linspace(0, 2*np.pi, 20)"
   ]
  },
  {
   "cell_type": "markdown",
   "metadata": {},
   "source": [
    "What does it mean?\n",
    "\n",
    "- The first number (`0`) is the starting point.\n",
    "\n",
    "- The second number (`2*np.pi`) is the ending point.\n",
    "\n",
    "- The third number (`100`) tells NumPy how many values you want in total.\n",
    "\n",
    "So `np.linspace(0, 2*np.pi, 100)` gives you 100 points from $0$ to $2 \\pi$, including both ends.\n",
    "This is super useful when you want to plot smooth curves, because you get a nice range of $x$-values to evaluate your function on.\n",
    "\n",
    "An alternative to `linspace` is `np.arange`, which is useful when you want control over the spacing between values, rather than the total number of points.\n",
    "\n",
    "```python\n",
    "x = np.arange(0, 10, 2)\n",
    "```\n",
    "\n",
    "This creates values from 0 up to (but not including) 10, with a step size of 2.\n",
    "\n",
    "Unlike `linspace`, which takes the total number of points you want, `arange` lets you specify the exact distance between points. It's especially handy when you're thinking in terms of fixed intervals."
   ]
  },
  {
   "cell_type": "code",
   "execution_count": 9,
   "metadata": {},
   "outputs": [],
   "source": [
    "x_values = np.linspace(0, 2*np.pi, 20)\n",
    "y_values = np.sin(x_values)"
   ]
  },
  {
   "cell_type": "markdown",
   "metadata": {},
   "source": [
    "This calculates the sine of each element in the x array, producing a new array y of the same length. Vectorized operations like this are fast, concise, and ideal for working with numerical data.\n",
    "\n",
    "When we plot functions, we connect these calculated points with straight lines. \n",
    "\n",
    "This creates a continuous curve that visually represents the function. "
   ]
  },
  {
   "cell_type": "code",
   "execution_count": 10,
   "metadata": {},
   "outputs": [
    {
     "data": {
      "image/png": "[encoded data removed]",
      "text/plain": [
       "<Figure size 500x400 with 1 Axes>"
      ]
     },
     "metadata": {},
     "output_type": "display_data"
    }
   ],
   "source": [
    "import matplotlib.pyplot as plt\n",
    "import seaborn as sns\n",
    "# Set the ticks theme\n",
    "sns.set_theme(style=\"ticks\")\n",
    "\n",
    "plt.figure(figsize=(5, 4))\n",
    "\n",
    "# Plot the sine function\n",
    "sns.lineplot(x = x_values, y = y_values, marker=\"o\")\n",
    "\n",
    "plt.xlabel(rf'$x$, rad')\n",
    "plt.ylabel(rf'$\\sin (x)$')\n",
    "\n",
    "plt.grid(True)\n",
    "plt.show()"
   ]
  },
  {
   "cell_type": "markdown",
   "metadata": {},
   "source": [
    "#### What does this do?\n",
    "\n",
    "1. **Importing Libraries**:\n",
    "   ```python\n",
    "   import matplotlib.pyplot as plt\n",
    "   import seaborn as sns\n",
    "   ```\n",
    "   - Matplotlib: A versatile library for creating static, animated, and interactive visualizations.\n",
    "   - Seaborn: Built on top of Matplotlib, it simplifies creating attractive and informative statistical plots.\n",
    "\n",
    "2. **Setting the Figure Size**:\n",
    "   ```python\n",
    "   plt.figure(figsize=(5, 4))\n",
    "   ```\n",
    "   - This creates a blank canvas for the plot, with a specified width and height (5 $\\times$ 4 inches).\n",
    "\n",
    "3. **Plotting the Sine Function**:\n",
    "   ```python\n",
    "   sns.lineplot(x=x_values, y=y_values, marker=\"o\")\n",
    "   ```\n",
    "   - `sns.lineplot`: A Seaborn function to create a line plot.\n",
    "   - `x=x, y=y`: The variables `x` and `y` contain the data to be plotted. `x` represents the x-axis (input values), and `y` represents the y-axis (output values, such as `sin(x)`).\n",
    "   - `marker=\"o\"`: Adds circular markers at each data point.\n",
    "\n",
    "4. **Labeling Axes**:\n",
    "   ```python\n",
    "   plt.xlabel(rf'$x$, rad')\n",
    "   plt.ylabel(rf'$\\sin (x)$')\n",
    "   ```\n",
    "   - These commands label the x-axis and y-axis.\n",
    "   - The `rf'...'` syntax is used for $\\LaTeX$-style math rendering.\n",
    "\n",
    "5. **Adding a Grid**:\n",
    "   ```python\n",
    "   plt.grid(True)\n",
    "   ```\n",
    "   - Adds a grid to the background of the plot.\n",
    "\n",
    "6. **Displaying the Plot**:\n",
    "   ```python\n",
    "   plt.show()\n",
    "   ```\n",
    "   - This renders and displays the plot."
   ]
  },
  {
   "cell_type": "markdown",
   "metadata": {},
   "source": [
    "## Plotting data from a DataFrame\n",
    "\n",
    "Sometimes we don’t have an analytical function, but instead the results of an experiment or a simulation. In these cases, we usually store the data in columns—much like in an Excel spreadsheet. Naturally, in Python, there's a better and more flexible alternative called a DataFrame.\n",
    "\n",
    "A DataFrame is a 2-dimensional, table-like data structure provided by `pandas`, where each column is a labeled variable and each row is an observation.\n",
    "\n",
    "1. Import `pandas`:\n",
    "   ```python\n",
    "   import pandas as pd\n",
    "   ```\n",
    "\n",
    "2. Create or load a DataFrame:\n",
    "   ```python\n",
    "   df = pd.DataFrame({\n",
    "       \"x\": [0, 1, 2, 3, 4],\n",
    "       \"y\": [0, 0.84, 0.91, 0.14, -0.76]\n",
    "   })\n",
    "   ```\n",
    "\n",
    "3. Plot columns:\n",
    "   ```python\n",
    "   sns.lineplot(data=df, x=\"x\", y=\"y\", marker=\"o\")\n",
    "   plt.xlabel(r\"$x$\")\n",
    "   plt.ylabel(r\"$y$\")\n",
    "   plt.grid(True)\n",
    "   plt.show()\n",
    "   ```\n",
    "\n",
    "   - `data=df`: Tells Seaborn to look inside the DataFrame.\n",
    "   \n",
    "   - `x=\"x\"` and `y=\"y\"`: Specify which columns to use for the axes.\n",
    "\n",
    "\n",
    "Sometimes we will generate DataFrames on the fly. Other times, we will load them from external files, like `.csv`, `.txt`, or `.xlsx`. Either way, plotting them follows the same simple pattern."
   ]
  },
  {
   "cell_type": "code",
   "execution_count": 11,
   "metadata": {},
   "outputs": [
    {
     "data": {
      "image/png": "[encoded data removed]",
      "text/plain": [
       "<Figure size 640x480 with 1 Axes>"
      ]
     },
     "metadata": {},
     "output_type": "display_data"
    }
   ],
   "source": [
    "import pandas as pd\n",
    "\n",
    "df = pd.DataFrame({\n",
    "       \"x\": [0, 1, 2, 3, 4],\n",
    "       \"y\": [0, 0.84, 0.91, 0.14, -0.76]\n",
    "   })\n",
    "\n",
    "sns.lineplot(data=df, x=\"x\", y=\"y\", marker=\"o\")\n",
    "plt.xlabel(r\"$x$\")\n",
    "plt.ylabel(r\"$y$\")\n",
    "plt.grid(True)\n",
    "plt.show()"
   ]
  },
  {
   "cell_type": "markdown",
   "metadata": {},
   "source": [
    "<div class=\"alert alert-block alert-info\">\n",
    "\n",
    "# Algebraic manipulations"
   ]
  },
  {
   "cell_type": "markdown",
   "metadata": {},
   "source": [
    "While Python is great for performing basic calculations and working with variables, sometimes you need to perform algebraic manipulations like solving equations, differentiating, or integrating expressions symbolically. \n",
    "This is where `SymPy` comes in.\n",
    "\n",
    "`SymPy` is a powerful Python library for *symbolic mathematics* (algebra). It allows you to manipulate mathematical expressions, solve equations, work with calculus, and even simplify complex algebraic formulas.\n",
    "\n",
    "We import `SymPy` with the command `import`. We import it under the alias `sp` to make it easier to reference."
   ]
  },
  {
   "cell_type": "code",
   "execution_count": 45,
   "metadata": {},
   "outputs": [],
   "source": [
    "import sympy as sp      # one import per notebook is enough\n",
    "sp.init_printing()         # including \"pretty printing\", which returns formatted expressions"
   ]
  },
  {
   "cell_type": "markdown",
   "metadata": {},
   "source": [
    "### Solving equations (`solve`)\n",
    "\n",
    "First, let’s look at an example to understand how things work. We’ll revisit the Arrhenius task, where we needed to solve the Arrhenius equation for $T$:\n",
    "\n",
    "$$ k_d = \\nu \\cdot \\exp\\left(-\\frac{E_a}{k_B \\cdot T}\\right) \\implies T = \\frac{E_a}{k_B \\ln(\\frac{\\nu}{k_d})}$$"
   ]
  },
  {
   "cell_type": "markdown",
   "metadata": {},
   "source": [
    "The code to solve the equation with `SymPy` is as follows:"
   ]
  },
  {
   "cell_type": "code",
   "execution_count": 46,
   "metadata": {},
   "outputs": [
    {
     "name": "stdout",
     "output_type": "stream",
     "text": [
      "[E_a/(k_B*log(nu/k_d))]\n"
     ]
    },
    {
     "data": {
      "image/png": "[encoded data removed]",
      "text/latex": [
       "$\\displaystyle \\left[ \\frac{E_{a}}{k_{B} \\log{\\left(\\frac{\\nu}{k_{d}} \\right)}}\\right]$"
      ],
      "text/plain": [
       "⎡     Eₐ     ⎤\n",
       "⎢────────────⎥\n",
       "⎢       ⎛ ν ⎞⎥\n",
       "⎢k_B⋅log⎜───⎟⎥\n",
       "⎣       ⎝k_d⎠⎦"
      ]
     },
     "metadata": {},
     "output_type": "display_data"
    }
   ],
   "source": [
    "# Step 1: Define the symbols (variables and constants) that will be used in the equation\n",
    "k_d, nu, E_a, k_B, T = sp.symbols('k_d nu E_a k_B T')\n",
    "\n",
    "\n",
    "# Step 2: Define the equation we want to solve\n",
    "# The equation represents: k_d = nu * exp(-E_a / (k_B * T))\n",
    "equation = sp.Eq(k_d, nu * sp.exp(-E_a / (k_B * T)))\n",
    "\n",
    "\n",
    "# Step 3: Solve the equation for T (temperature), which is the unknown variable\n",
    "T_solution = sp.solve(equation, T)\n",
    "\n",
    "\n",
    "# Step 4: Output the solution for T.\n",
    "print(T_solution)\n",
    "display(T_solution)"
   ]
  },
  {
   "cell_type": "markdown",
   "metadata": {},
   "source": [
    "Now, let's go through the code step by step."
   ]
  },
  {
   "cell_type": "markdown",
   "metadata": {},
   "source": [
    "```python\n",
    "# Define the symbols\n",
    "k_d, nu, E_a, k_B, T = sp.symbols('k_d nu E_a k_B T')\n",
    "```\n",
    "\n",
    "This line defines the variables (symbols) that we will use in the equation. In `SymPy`, we use `sp.symbols()` to create symbolic variables that represent mathematical quantities:\n",
    "\n",
    "- `k_d`: Symbol for the rate constant.\n",
    "\n",
    "- `nu`: Symbol for the frequency factor (pre-exponential factor).\n",
    "\n",
    "- `E_a`: Symbol for activation energy.\n",
    "\n",
    "- `k_B`: Symbol for Boltzmann constant.\n",
    "\n",
    "- `T`: Symbol for temperature, which we want to solve for."
   ]
  },
  {
   "cell_type": "markdown",
   "metadata": {},
   "source": [
    "$$ k_d = \\nu \\cdot \\exp\\left(-\\frac{E_a}{k_B \\cdot T}\\right) $$"
   ]
  },
  {
   "cell_type": "markdown",
   "metadata": {},
   "source": [
    "```python\n",
    "# Define the equation\n",
    "equation = sp.Eq(k_d, nu * sp.exp(-E_a / (k_B * T)))\n",
    "```\n",
    "\n",
    "Here, we define the equation that we want to solve. `SymPy` uses `sp.Eq()` to represent an equation, where the first argument is the left-hand side and the second argument is the right-hand side of the equation.\n",
    "\n",
    "- `sp.Eq(k_d, ...)` sets the left-hand side of the equation to `k_d`.\n",
    "\n",
    "- `nu * sp.exp(-E_a / (k_B * T))` is the right-hand side of the equation, representing the frequency factor ($\\nu$) multiplied by the exponential term with the activation energy.\n",
    "\n",
    "In this case:\n",
    "\n",
    "$$\n",
    "k_d = \\nu \\cdot \\exp\\left(-\\frac{E_a}{k_B \\cdot T}\\right)\n",
    "$$"
   ]
  },
  {
   "cell_type": "markdown",
   "metadata": {},
   "source": [
    "```python\n",
    "# Solve for T\n",
    "T_solution = sp.solve(equation, T)\n",
    "```\n",
    "\n",
    "This line solves the equation for $T$. \n",
    "\n",
    "- `sp.solve(equation, T)` tells `SymPy` to solve the equation with respect to $T$. `SymPy` will isolate $T$ on one side of the equation and express it in terms of the other symbols ($k_d$, $\\nu$, $E_a$, and $k_B$).\n",
    "\n",
    "The result is stored in `T_solution`, which will contain the mathematical solution for $T$."
   ]
  },
  {
   "cell_type": "markdown",
   "metadata": {},
   "source": [
    "`SymPy` offers many more features:\n",
    "\n",
    "### Simplifying Expressions (`simplify`)\n",
    "\n",
    "In this example, `SymPy` recognizes that $\\dfrac{x^2 - 1}{x - 1}$ simplifies to $x + 1$, and automatically performs the simplification for you:"
   ]
  },
  {
   "cell_type": "code",
   "execution_count": null,
   "metadata": {},
   "outputs": [],
   "source": [
    "x = sp.symbols('x')\n",
    "\n",
    "expr = (x**2 - 1) / (x - 1)\n",
    "\n",
    "simplified_expr = sp.simplify(expr)\n",
    "\n",
    "simplified_expr  # Output: x + 1"
   ]
  },
  {
   "cell_type": "markdown",
   "metadata": {},
   "source": [
    "### Differentiation (`diff`)"
   ]
  },
  {
   "cell_type": "code",
   "execution_count": null,
   "metadata": {},
   "outputs": [],
   "source": [
    "x = sp.symbols('x')\n",
    "\n",
    "f = x**3 + 3*x**2 + 2*x + 1\n",
    "\n",
    "derivative = sp.diff(f, x)\n",
    "\n",
    "display(derivative)  # Output: 3*x**2 + 6*x + 2"
   ]
  },
  {
   "cell_type": "markdown",
   "metadata": {},
   "source": [
    "### Integration (`integrate`)"
   ]
  },
  {
   "cell_type": "code",
   "execution_count": null,
   "metadata": {},
   "outputs": [],
   "source": [
    "x = sp.symbols('x')\n",
    "\n",
    "f = x**3 + 3*x**2 + 2*x + 1\n",
    "\n",
    "integral = sp.integrate(f, x)\n",
    "\n",
    "integral  # Output: x**4/4 + x**3 + x**2 + x"
   ]
  },
  {
   "cell_type": "markdown",
   "metadata": {},
   "source": [
    "<div style=\"text-align: center;\">\n",
    "    <img src=\"https://imgs.xkcd.com/comics/differentiation_and_integration.png\" style=\"width: 60%; max-width: 500px;\">\n",
    "</div>"
   ]
  },
  {
   "cell_type": "markdown",
   "metadata": {},
   "source": [
    "<div class=\"alert alert-block alert-light\">\n",
    "\n",
    "\n",
    "####   Exercise \n",
    "\n",
    "Integrate the gravitational force between two masses, $m_1$ and $m_2$, to determine the potential energy. Then, differentiate the potential energy to obtain the gravitational force."
   ]
  },
  {
   "cell_type": "code",
   "execution_count": null,
   "metadata": {},
   "outputs": [],
   "source": [
    "# Define variables\n",
    "m1, m2, G, r = sp.symbols('m1 m2 G r')\n",
    "\n",
    "# Gravitational force equation\n",
    "force = - G * m1 * m2 / r**2\n",
    "\n",
    "# Integrate the force to derive potential energy\n",
    "potential_energy = sp.integrate(-force, r)\n",
    "\n",
    "# Differentiate the potential energy to find the force again\n",
    "force_from_potential = sp.diff(-potential_energy, r)\n",
    "\n",
    "display(potential_energy, force_from_potential)\n",
    "print(force_from_potential == force)"
   ]
  },
  {
   "cell_type": "markdown",
   "metadata": {},
   "source": [
    "### Substituting Values into Expressions (`subs`)\n",
    "\n",
    "This substitutes $x = 3$ into the expression $x^2 + 2x + 1$, evaluating the result as 16:"
   ]
  },
  {
   "cell_type": "code",
   "execution_count": 48,
   "metadata": {},
   "outputs": [
    {
     "data": {
      "image/png": "[encoded data removed]",
      "text/latex": [
       "$\\displaystyle 16$"
      ],
      "text/plain": [
       "16"
      ]
     },
     "execution_count": 48,
     "metadata": {},
     "output_type": "execute_result"
    }
   ],
   "source": [
    "x = sp.symbols('x')\n",
    "\n",
    "expr = x**2 + 2*x + 1\n",
    "\n",
    "evaluated_expr = expr.subs(x, 3)\n",
    "\n",
    "evaluated_expr  # Output: 16"
   ]
  },
  {
   "cell_type": "markdown",
   "metadata": {},
   "source": [
    "### Expanding Expressions (`expand`)"
   ]
  },
  {
   "cell_type": "code",
   "execution_count": null,
   "metadata": {},
   "outputs": [],
   "source": [
    "x = sp.symbols('x')\n",
    "\n",
    "expr = (x + 1) ** 2\n",
    "\n",
    "expanded_expr = sp.expand(expr)\n",
    "\n",
    "expanded_expr  # Output: x**2 + 2*x + 1"
   ]
  },
  {
   "cell_type": "markdown",
   "metadata": {},
   "source": [
    "### Factoring Expressions (`factor`)"
   ]
  },
  {
   "cell_type": "code",
   "execution_count": null,
   "metadata": {},
   "outputs": [],
   "source": [
    "x = sp.symbols('x')\n",
    "\n",
    "expr = x**2 + 2*x + 1\n",
    "\n",
    "factored_expr = sp.factor(expr)\n",
    "\n",
    "factored_expr  # Output: (x + 1)**2"
   ]
  },
  {
   "cell_type": "markdown",
   "metadata": {},
   "source": [
    "### Limits (`limit`)"
   ]
  },
  {
   "cell_type": "code",
   "execution_count": 49,
   "metadata": {},
   "outputs": [
    {
     "data": {
      "image/png": "[encoded data removed]",
      "text/latex": [
       "$\\displaystyle \\infty$"
      ],
      "text/plain": [
       "∞"
      ]
     },
     "execution_count": 49,
     "metadata": {},
     "output_type": "execute_result"
    }
   ],
   "source": [
    "x = sp.symbols('x')\n",
    "\n",
    "expr = 1/x\n",
    "\n",
    "limit_expr = sp.limit(expr, x, 0)\n",
    "\n",
    "limit_expr  # Output: oo (infinity)"
   ]
  },
  {
   "cell_type": "markdown",
   "metadata": {},
   "source": [
    "There is much more:\n",
    "\n",
    "- Calculating the roots of polynomials;\n",
    "\n",
    "- Systems of linear and nonlinear equations;\n",
    "\n",
    "- Evaluation of finite or infinite summations;\n",
    "\n",
    "- Taylor series expansions;\n",
    "\n",
    "- Ordinary differential equations (ODEs);\n",
    "\n",
    "- Partial differential equations (PDEs);\n",
    "\n",
    "- Matrix operations;\n",
    "\n",
    "- Laplace and Fourier transforms;\n",
    "\n",
    "- Complex analysis;\n",
    "\n",
    "- ...\n",
    "\n",
    "You are encouraged to look up the syntax if you come across a task you'd like to solve using `SymPy`."
   ]
  }
 ],
 "metadata": {
  "kernelspec": {
   "display_name": "base",
   "language": "python",
   "name": "python3"
  },
  "language_info": {
   "codemirror_mode": {
    "name": "ipython",
    "version": 3
   },
   "file_extension": ".py",
   "mimetype": "text/x-python",
   "name": "python",
   "nbconvert_exporter": "python",
   "pygments_lexer": "ipython3",
   "version": "3.10.16"
  }
 },
 "nbformat": 4,
 "nbformat_minor": 2
}
