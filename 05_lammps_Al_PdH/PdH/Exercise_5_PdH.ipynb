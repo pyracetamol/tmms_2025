{
 "cells": [
  {
   "cell_type": "code",
   "execution_count": 1,
   "metadata": {},
   "outputs": [
    {
     "name": "stdout",
     "output_type": "stream",
     "text": [
      "Collecting git+https://github.com/henriasv/lammps-logfile.git\n",
      "  Cloning https://github.com/henriasv/lammps-logfile.git to /private/var/folders/kr/hd4z04ps7gj0rkc4v2688f9m0000gn/T/pip-req-build-uezvi8z5\n",
      "  Running command git clone --filter=blob:none --quiet https://github.com/henriasv/lammps-logfile.git /private/var/folders/kr/hd4z04ps7gj0rkc4v2688f9m0000gn/T/pip-req-build-uezvi8z5\n",
      "  Resolved https://github.com/henriasv/lammps-logfile.git to commit d31b1fb0ae9896507c00877dfca48b05bfdc534e\n",
      "  Preparing metadata (setup.py) ... \u001b[?25ldone\n",
      "\u001b[?25hRequirement already satisfied: pandas in /opt/homebrew/Caskroom/miniforge/base/envs/tmms25/lib/python3.10/site-packages (from lammps-logfile==1.0.2) (2.2.3)\n",
      "Requirement already satisfied: numpy in /opt/homebrew/Caskroom/miniforge/base/envs/tmms25/lib/python3.10/site-packages (from lammps-logfile==1.0.2) (2.1.3)\n",
      "Requirement already satisfied: matplotlib in /opt/homebrew/Caskroom/miniforge/base/envs/tmms25/lib/python3.10/site-packages (from lammps-logfile==1.0.2) (3.10.1)\n",
      "Requirement already satisfied: contourpy>=1.0.1 in /opt/homebrew/Caskroom/miniforge/base/envs/tmms25/lib/python3.10/site-packages (from matplotlib->lammps-logfile==1.0.2) (1.3.1)\n",
      "Requirement already satisfied: cycler>=0.10 in /opt/homebrew/Caskroom/miniforge/base/envs/tmms25/lib/python3.10/site-packages (from matplotlib->lammps-logfile==1.0.2) (0.12.1)\n",
      "Requirement already satisfied: fonttools>=4.22.0 in /opt/homebrew/Caskroom/miniforge/base/envs/tmms25/lib/python3.10/site-packages (from matplotlib->lammps-logfile==1.0.2) (4.57.0)\n",
      "Requirement already satisfied: kiwisolver>=1.3.1 in /opt/homebrew/Caskroom/miniforge/base/envs/tmms25/lib/python3.10/site-packages (from matplotlib->lammps-logfile==1.0.2) (1.4.7)\n",
      "Requirement already satisfied: packaging>=20.0 in /opt/homebrew/Caskroom/miniforge/base/envs/tmms25/lib/python3.10/site-packages (from matplotlib->lammps-logfile==1.0.2) (24.2)\n",
      "Requirement already satisfied: pillow>=8 in /opt/homebrew/Caskroom/miniforge/base/envs/tmms25/lib/python3.10/site-packages (from matplotlib->lammps-logfile==1.0.2) (11.1.0)\n",
      "Requirement already satisfied: pyparsing>=2.3.1 in /opt/homebrew/Caskroom/miniforge/base/envs/tmms25/lib/python3.10/site-packages (from matplotlib->lammps-logfile==1.0.2) (3.2.3)\n",
      "Requirement already satisfied: python-dateutil>=2.7 in /opt/homebrew/Caskroom/miniforge/base/envs/tmms25/lib/python3.10/site-packages (from matplotlib->lammps-logfile==1.0.2) (2.9.0.post0)\n",
      "Requirement already satisfied: pytz>=2020.1 in /opt/homebrew/Caskroom/miniforge/base/envs/tmms25/lib/python3.10/site-packages (from pandas->lammps-logfile==1.0.2) (2024.1)\n",
      "Requirement already satisfied: tzdata>=2022.7 in /opt/homebrew/Caskroom/miniforge/base/envs/tmms25/lib/python3.10/site-packages (from pandas->lammps-logfile==1.0.2) (2025.2)\n",
      "Requirement already satisfied: six>=1.5 in /opt/homebrew/Caskroom/miniforge/base/envs/tmms25/lib/python3.10/site-packages (from python-dateutil>=2.7->matplotlib->lammps-logfile==1.0.2) (1.17.0)\n"
     ]
    }
   ],
   "source": [
    "# EXECUTE THIS CELL\n",
    "! pip install lammps -q\n",
    "! pip install git+https://github.com/henriasv/lammps-logfile.git\n",
    "\n",
    "\n",
    "import pandas as pd\n",
    "import re\n",
    "import numpy as np\n",
    "from scipy.optimize import curve_fit\n",
    "import matplotlib.pyplot as plt\n",
    "import seaborn as sns\n",
    "sns.set_context(\"talk\")\n",
    "import lammps_logfile\n",
    "from lammps import lammps"
   ]
  },
  {
   "cell_type": "markdown",
   "metadata": {},
   "source": [
    "# Exercise: Diffusion of Hydrogen in Palladium\n",
    "\n",
    "Molecular dynamics (MD) simulations are a powerful tool for understanding the atomic-scale mechanisms that underlie real-world materials behavior. In fields like hydrogen storage, fuel cells, and catalysis, the ability of hydrogen to diffuse through metals such as palladium is of critical importance. However, these processes are difficult to observe directly at the atomic level.\n",
    "\n",
    "In this exercise, you will study the diffusion of hydrogen (H) atoms in a palladium (Pd) matrix using molecular dynamics simulations. Palladium has a face-centered cubic (FCC) structure, and hydrogen atoms occupy interstitial sites, forming an interstitial solid solution.\n",
    "\n",
    "You are provided with equilibrated atomic configurations of Pd with a dilute concentration of hydrogen (`PdH_equilibrated_*.data`) at different temperatures (350 K, 400 K, 450 K, 500 K). Your task is to analyze how hydrogen atoms move through the Pd lattice over time, and to extract physical insights about the diffusion process.\n",
    "\n",
    "Specifically, you will:\n",
    "\n",
    "- Perform molecular dynamics simulations at different temperatures,\n",
    "\n",
    "- Load time-resolved mean squared displacement (MSD) data for H atoms,\n",
    "\n",
    "- Fit a linear model to the MSD vs. time curves to determine diffusion coefficients at each temperature,\n",
    "\n",
    "- Construct an Arrhenius plot of $\\ln D$ vs. $1/T$ to extract the activation energy for hydrogen diffusion in palladium."
   ]
  },
  {
   "cell_type": "markdown",
   "metadata": {},
   "source": [
    "<div style=\"text-align: center;\">\n",
    "  <img src=\"PdH_crop.gif\" style=\"width: 500px;\">\n",
    "  <p style=\"font-size: 0.9em; text-align: center;\">\n",
    "    Hydrogen diffusion in a palladium (Pd) matrix. Hydrogen atoms (black) move through the semitransparent grey Pd lattice, with their trajectories visualized as they evolve over time.\n",
    "  </p>\n",
    "</div>"
   ]
  },
  {
   "cell_type": "markdown",
   "metadata": {},
   "source": [
    "# (a) Production runs"
   ]
  },
  {
   "cell_type": "markdown",
   "metadata": {},
   "source": [
    "## 350 K"
   ]
  },
  {
   "cell_type": "markdown",
   "metadata": {},
   "source": [
    "1. In the cell below, insert your matriculation number at the end of the line `variable    randomSeed equal`\n",
    "    - This step ensures the reproducibility of your simulation results.\n",
    "\n",
    "2. Execute the cell to generate a LAMMPS input script for a simulation at 350 K.  \n",
    "\n",
    "3. Then run the next cell to submit the simulation.\n",
    "\n",
    "4. Make note of the files and associated properties generated during the simulation.\n",
    "\n",
    "5. Once the simulation at 350 K is complete, duplicate both cells and adapt them to run simulations at the other temperatures of interest: 400 K, 450 K, and 500 K.\n",
    "\n",
    "    > **Important:**  \n",
    "    > Make sure to update all temperature-specific values in both the input script and the submission command, including:\n",
    "    > - The target temperature,\n",
    "    > - Output file names (to avoid overwriting),\n",
    "    > - Any labels used in filenames, variables, or logs."
   ]
  },
  {
   "cell_type": "code",
   "execution_count": 2,
   "metadata": {},
   "outputs": [
    {
     "name": "stdout",
     "output_type": "stream",
     "text": [
      "Writing PdH_350.in\n"
     ]
    }
   ],
   "source": [
    "%%writefile PdH_350.in\n",
    "# Set up units and boundaries\n",
    "units       metal\n",
    "boundary    p p p\n",
    "atom_style  atomic\n",
    "\n",
    "# Read input data\n",
    "read_data   PdH_equilibrated_350.data\n",
    "\n",
    "# Define masses for atomic types\n",
    "mass 1      1.00794  # H\n",
    "mass 2      106.42  # Pd \n",
    "\n",
    "pair_style eam/alloy\n",
    "pair_coeff * * PdH_Zhou_June29_2007_2.eam.alloy H Pd\n",
    "\n",
    "##################################\n",
    "# Parameters #\n",
    "variable    randomSeed equal        40       # Your matriculation number  \n",
    "variable    timeStepLength equal    0.001    # In ps\n",
    "variable    tDamp equal             0.1      # Thermostat damping (ps)\n",
    "variable    pDamp equal             1        # Barostat damping (ps)\n",
    "variable    startingTemp equal      350      # Initial temperature in K\n",
    "variable    externalPressure equal  0.0      # External pressure in atm\n",
    "variable    run1 equal              50000   # Steps \n",
    "##################################\n",
    "\n",
    "group Hatoms    type 1 \n",
    "compute         Hmsd Hatoms msd com yes\n",
    "variable        time equal step*${timeStepLength}\n",
    "\n",
    "fix msdout all ave/time 100 1 100 c_Hmsd[4] file msd_H_350.txt\n",
    "\n",
    "# Set timestep\n",
    "timestep    ${timeStepLength}\n",
    "\n",
    "# Starting simulation\n",
    "\n",
    "thermo_style custom step temp press ke pe etotal vol enthalpy c_Hmsd[*]\n",
    "thermo_modify flush yes\n",
    "thermo 100\n",
    "\n",
    "dump        dump1 all custom 5000 350.traj.dump id type x y z\n",
    "\n",
    "# Step 1: \n",
    "fix         1 all npt temp ${startingTemp} ${startingTemp} ${tDamp} iso ${externalPressure} ${externalPressure} ${pDamp}\n",
    "run         ${run1}\n",
    "unfix       1"
   ]
  },
  {
   "cell_type": "code",
   "execution_count": null,
   "metadata": {},
   "outputs": [],
   "source": [
    "# EXECUTE THIS CELL\n",
    "lmp = lammps(cmdargs=[\"-log\", \"PdH_350.log\"])\n",
    "lmp.file(\"PdH_350.in\")"
   ]
  },
  {
   "cell_type": "markdown",
   "metadata": {},
   "source": [
    "## 400 K"
   ]
  },
  {
   "cell_type": "code",
   "execution_count": null,
   "metadata": {},
   "outputs": [],
   "source": []
  },
  {
   "cell_type": "code",
   "execution_count": null,
   "metadata": {},
   "outputs": [],
   "source": []
  },
  {
   "cell_type": "markdown",
   "metadata": {},
   "source": [
    "## 450 K"
   ]
  },
  {
   "cell_type": "code",
   "execution_count": null,
   "metadata": {},
   "outputs": [],
   "source": []
  },
  {
   "cell_type": "code",
   "execution_count": null,
   "metadata": {},
   "outputs": [],
   "source": []
  },
  {
   "cell_type": "markdown",
   "metadata": {},
   "source": [
    "## 500 K"
   ]
  },
  {
   "cell_type": "code",
   "execution_count": null,
   "metadata": {},
   "outputs": [],
   "source": []
  },
  {
   "cell_type": "code",
   "execution_count": null,
   "metadata": {},
   "outputs": [],
   "source": []
  },
  {
   "cell_type": "markdown",
   "metadata": {},
   "source": [
    "# (b) Harvest MSD data"
   ]
  },
  {
   "cell_type": "markdown",
   "metadata": {},
   "source": [
    "In this step, you will load the MSD data for hydrogen diffusion from your simulations at different temperatures, merge them into a single DataFrame, and create a time axis.\n",
    "\n",
    "1. Identify the correct output files for each temperature. You can find the filenames either in your LAMMPS input scripts or directly in your working folder.  \n",
    "Then, replace `'name of the text file'` with the actual filenames in the code snippet below.\n",
    "\n",
    "2. Use the provided snippet to:\n",
    "    - Load each file using `pd.read_csv`,\n",
    "    - Merge the DataFrames on the `Step` column (which represents simulation time steps),\n",
    "    - Convert the timestep to time in picoseconds,\n",
    "    - Reorder columns for clarity.\n",
    "\n",
    "3. Execute the cell once all file names are correctly inserted. You should see a table with time and MSD values at all four temperatures.\n",
    "\n",
    "If you are proficient in Python, feel free to implement your own solution using loops or functions, as long as the final output matches the expected format."
   ]
  },
  {
   "cell_type": "code",
   "execution_count": 2,
   "metadata": {},
   "outputs": [
    {
     "data": {
      "text/html": [
       "<div>\n",
       "<style scoped>\n",
       "    .dataframe tbody tr th:only-of-type {\n",
       "        vertical-align: middle;\n",
       "    }\n",
       "\n",
       "    .dataframe tbody tr th {\n",
       "        vertical-align: top;\n",
       "    }\n",
       "\n",
       "    .dataframe thead th {\n",
       "        text-align: right;\n",
       "    }\n",
       "</style>\n",
       "<table border=\"1\" class=\"dataframe\">\n",
       "  <thead>\n",
       "    <tr style=\"text-align: right;\">\n",
       "      <th></th>\n",
       "      <th>Step</th>\n",
       "      <th>Time [ps]</th>\n",
       "      <th>MSD 350K</th>\n",
       "      <th>MSD 400K</th>\n",
       "      <th>MSD 450K</th>\n",
       "      <th>MSD 500K</th>\n",
       "    </tr>\n",
       "  </thead>\n",
       "  <tbody>\n",
       "    <tr>\n",
       "      <th>0</th>\n",
       "      <td>0</td>\n",
       "      <td>0.0</td>\n",
       "      <td>7.936670e-29</td>\n",
       "      <td>3.623540e-29</td>\n",
       "      <td>5.465080e-29</td>\n",
       "      <td>2.617350e-30</td>\n",
       "    </tr>\n",
       "    <tr>\n",
       "      <th>1</th>\n",
       "      <td>100</td>\n",
       "      <td>0.1</td>\n",
       "      <td>4.335340e-01</td>\n",
       "      <td>3.517140e-01</td>\n",
       "      <td>5.477390e-01</td>\n",
       "      <td>4.216280e-01</td>\n",
       "    </tr>\n",
       "    <tr>\n",
       "      <th>2</th>\n",
       "      <td>200</td>\n",
       "      <td>0.2</td>\n",
       "      <td>5.377310e-01</td>\n",
       "      <td>4.748420e-01</td>\n",
       "      <td>9.318090e-01</td>\n",
       "      <td>6.213570e-01</td>\n",
       "    </tr>\n",
       "    <tr>\n",
       "      <th>3</th>\n",
       "      <td>300</td>\n",
       "      <td>0.3</td>\n",
       "      <td>7.255200e-01</td>\n",
       "      <td>6.261740e-01</td>\n",
       "      <td>1.258270e+00</td>\n",
       "      <td>8.770060e-01</td>\n",
       "    </tr>\n",
       "    <tr>\n",
       "      <th>4</th>\n",
       "      <td>400</td>\n",
       "      <td>0.4</td>\n",
       "      <td>7.344140e-01</td>\n",
       "      <td>7.487240e-01</td>\n",
       "      <td>1.510420e+00</td>\n",
       "      <td>1.506470e+00</td>\n",
       "    </tr>\n",
       "  </tbody>\n",
       "</table>\n",
       "</div>"
      ],
      "text/plain": [
       "   Step  Time [ps]      MSD 350K      MSD 400K      MSD 450K      MSD 500K\n",
       "0     0        0.0  7.936670e-29  3.623540e-29  5.465080e-29  2.617350e-30\n",
       "1   100        0.1  4.335340e-01  3.517140e-01  5.477390e-01  4.216280e-01\n",
       "2   200        0.2  5.377310e-01  4.748420e-01  9.318090e-01  6.213570e-01\n",
       "3   300        0.3  7.255200e-01  6.261740e-01  1.258270e+00  8.770060e-01\n",
       "4   400        0.4  7.344140e-01  7.487240e-01  1.510420e+00  1.506470e+00"
      ]
     },
     "execution_count": 2,
     "metadata": {},
     "output_type": "execute_result"
    }
   ],
   "source": [
    "# COMPLETE AND EXECUTE THIS CELL\n",
    "\n",
    "# Time conversion: 1 timestep = 1 fs = 0.001 ps\n",
    "timestep_fs = 1\n",
    "fs_to_ps = 0.001\n",
    "\n",
    "# Load all MSD files\n",
    "df_350 = pd.read_csv('NAME OF THE FILE', comment='#', sep='\\s+', names=['Step','MSD 350K'])\n",
    "# df_400 = \n",
    "# ...\n",
    "# ...\n",
    "\n",
    "# Merge on Step\n",
    "df = df_350.merge(df_400, on='Step').merge(df_450, on='Step').merge(df_500, on='Step')\n",
    "\n",
    "# Add Time column in ps\n",
    "df['Time [ps]'] = df['Step'] * timestep_fs * fs_to_ps\n",
    "\n",
    "# Reorder columns\n",
    "df = df[['Step', 'Time [ps]', 'MSD 350K', 'MSD 400K', 'MSD 450K', 'MSD 500K']]\n",
    "\n",
    "\n",
    "# Show result\n",
    "df"
   ]
  },
  {
   "cell_type": "markdown",
   "metadata": {},
   "source": [
    "This DataFrame presents mean squared displacement (MSD) data over time for different temperatures.\n",
    "\n",
    "  * `Step`: Simulation step index.\n",
    "\n",
    "  * `Time [ps]`: Time in picoseconds corresponding to each simulation step.\n",
    "  \n",
    "  * `MSD 350K` to `MSD 500K`: Mean squared displacement values at 350K, 400K, 450K, and 500K, respectively.\n",
    "\n",
    "\n",
    "Now, complete the code snippet below to plot all the MSD datasets on a single graph.\n",
    "\n",
    "- Replace `'header of the x column'` and `'header of the y column'` with the exact column names from the DataFrame that you want to plot. Make sure the names match the DataFrame headers exactly.\n",
    "\n",
    "- You will need to do this four times: once for each temperature dataset."
   ]
  },
  {
   "cell_type": "code",
   "execution_count": null,
   "metadata": {},
   "outputs": [
    {
     "data": {
      "image/png": "[encoded data removed]",
      "text/plain": [
       "<Figure size 640x480 with 1 Axes>"
      ]
     },
     "metadata": {},
     "output_type": "display_data"
    }
   ],
   "source": [
    "# COMPLETE AND EXECUTE THIS CELL\n",
    "\n",
    "sns.lineplot(data=df, x='header of the x column', y='header of the y column', label='temperature value')   # data for 350 K\n",
    "# data for 400 K\n",
    "# data for 450 K\n",
    "# data for 500 K\n",
    "\n",
    "\n",
    "plt.xlabel('Time [ps]')\n",
    "plt.ylabel(r'MSD [$\\mathrm{\\AA^2}$]')\n",
    "\n",
    "plt.grid(True, alpha=0.5)\n",
    "plt.show()"
   ]
  },
  {
   "cell_type": "markdown",
   "metadata": {},
   "source": [
    "## (c) Calculate diffusion coefficients\n",
    "\n",
    "Calculate the diffusion coefficient at the given temperatures by applying Einstein’s relation with $d=3$:\n",
    "$$\n",
    "\\text{MSD}(t) = 2dDt\n",
    "$$\n",
    "\n",
    "The diffusion coefficient is extracted from the slope of the MSD vs. time curve, which we expect to be linear at long times:\n",
    "$$\n",
    "\\text{MSD}(t) = a \\cdot t + b\n",
    "$$\n",
    "\n",
    "> Think about the physical meaning of MSD at time $t=0$.\n",
    "> What value should the MSD have at the very beginning of the simulation?\n",
    "> What does that tell you about the constant `b`?\n",
    "\n",
    "Below is a generic function you can use for curve fitting: adapt it according to your answer to the previous question."
   ]
  },
  {
   "cell_type": "code",
   "execution_count": null,
   "metadata": {},
   "outputs": [],
   "source": [
    "# ADAPT AND EXECUTE THIS CELL\n",
    "\n",
    "# Linear model: MSD(t) = a * t + b\n",
    "def msd_model(t, a, b):\n",
    "    return a * t + b"
   ]
  },
  {
   "cell_type": "markdown",
   "metadata": {},
   "source": [
    "<details>\n",
    "<summary>Spoiler Alert</summary>\n",
    "\n",
    "If you reasoned that MSD should be zero at $t = 0$, you're right! Here's a simplified model that reflects that:\n",
    "\n",
    "```python\n",
    "# MSD(t) = a * t, with zero intercept\n",
    "def msd_model(t, a):\n",
    "    return a * t\n",
    "```\n",
    "</details> "
   ]
  },
  {
   "cell_type": "markdown",
   "metadata": {},
   "source": [
    "Adapt the following code snippet to extract the diffusion coefficient $D$ at each temperature using your merged DataFrame.\n",
    "\n",
    "- Replace `'header of the x column'` with `'Time [ps]'`.\n",
    "\n",
    "- Replace `'header of the y column'` with the MSD column corresponding to the temperature you're working with (e.g., `'MSD 350K'`).\n",
    "\n",
    "- Set the correct dimensionality of the system, so the denominator becomes $2d$ in the Einstein relation.\n",
    "\n",
    "Repeat this process for the other temperatures by adapting the MSD column name and label in `print()`."
   ]
  },
  {
   "cell_type": "markdown",
   "metadata": {},
   "source": [
    "Bonus: Try fitting with and without the intercept. Do you see a difference in extracted $D$?\n",
    "What might cause a non-zero intercept?"
   ]
  },
  {
   "cell_type": "code",
   "execution_count": null,
   "metadata": {},
   "outputs": [],
   "source": [
    "# COMPLETE AND EXECUTE THIS CELL\n",
    "\n",
    "d = ... # dimensionality of the system\n",
    "\n",
    "### data for 350 K\n",
    "t = df['header of the x column']\n",
    "msd_350 = df['header of the y column']\n",
    "\n",
    "# Fit and extract D\n",
    "popt_350, _ = curve_fit(msd_model, t, msd_350)\n",
    "\n",
    "D_350 = popt_350[0] / 2*d\n",
    "\n",
    "print(f\"T = 350 K: D = {D_350:.2e} Å²/ps\")\n",
    "\n",
    "\n",
    "### data for 400 K\n",
    "# ...\n",
    "\n",
    "### data for 450 K\n",
    "# ...\n",
    "\n",
    "### data for 500 K\n",
    "# ..."
   ]
  },
  {
   "cell_type": "markdown",
   "metadata": {},
   "source": [
    "## (d) Arrhenius fitting\n",
    "\n",
    "Now that you've extracted the diffusion coefficients $D$ at different temperatures, it's time to organize your results in a table so you can use them for further analysis (like Arrhenius fitting).\n",
    "\n",
    "1. Replace the placeholder list of `temperatures` with the actual values used in your simulations (e.g., `350`).\n",
    "\n",
    "2. Replace the list of `diffusion_coeffs` with the actual *variable names* (not the numerical values) you defined for each diffusion coefficient (e.g., `D_350`).\n",
    "\n",
    "3. Run the cell to create a new DataFrame `df_diffusion_fits` with:\n",
    "    - Temperature\n",
    "    - Diffusion coefficient\n",
    "    - Inverse temperature \n",
    "    - Natural logarithm of the diffusion coefficient "
   ]
  },
  {
   "cell_type": "code",
   "execution_count": null,
   "metadata": {},
   "outputs": [],
   "source": [
    "# COMPLETE AND EXECUTE THIS CELL\n",
    "\n",
    "# Lists of values (to complete)\n",
    "temperatures = [temperatures values separated by commas]\n",
    "diffusion_coeffs = [variable names of the diffusion coefficients, separated by commas]\n",
    "\n",
    "# Create the DataFrame\n",
    "df_diffusion_fits = pd.DataFrame({\n",
    "    'T [K]': temperatures,\n",
    "    'D [Å²/ps]': diffusion_coeffs\n",
    "})\n",
    "\n",
    "# Add derived columns\n",
    "df_diffusion_fits['1/T [1/K]'] = 1 / df_diffusion_fits['T [K]']\n",
    "df_diffusion_fits['ln D'] = np.log(df_diffusion_fits['D [Å²/ps]'])\n",
    "\n",
    "# Show it\n",
    "df_diffusion_fits"
   ]
  },
  {
   "cell_type": "code",
   "execution_count": null,
   "metadata": {},
   "outputs": [
    {
     "data": {
      "text/html": [
       "<div>\n",
       "<style scoped>\n",
       "    .dataframe tbody tr th:only-of-type {\n",
       "        vertical-align: middle;\n",
       "    }\n",
       "\n",
       "    .dataframe tbody tr th {\n",
       "        vertical-align: top;\n",
       "    }\n",
       "\n",
       "    .dataframe thead th {\n",
       "        text-align: right;\n",
       "    }\n",
       "</style>\n",
       "<table border=\"1\" class=\"dataframe\">\n",
       "  <thead>\n",
       "    <tr style=\"text-align: right;\">\n",
       "      <th></th>\n",
       "      <th>T [K]</th>\n",
       "      <th>D [Å²/ps]</th>\n",
       "      <th>1/T [1/K]</th>\n",
       "      <th>ln D</th>\n",
       "    </tr>\n",
       "  </thead>\n",
       "  <tbody>\n",
       "    <tr>\n",
       "      <th>0</th>\n",
       "      <td>350</td>\n",
       "      <td>0.146816</td>\n",
       "      <td>0.002857</td>\n",
       "      <td>-1.918573</td>\n",
       "    </tr>\n",
       "    <tr>\n",
       "      <th>1</th>\n",
       "      <td>400</td>\n",
       "      <td>0.172602</td>\n",
       "      <td>0.002500</td>\n",
       "      <td>-1.756769</td>\n",
       "    </tr>\n",
       "    <tr>\n",
       "      <th>2</th>\n",
       "      <td>450</td>\n",
       "      <td>0.225953</td>\n",
       "      <td>0.002222</td>\n",
       "      <td>-1.487429</td>\n",
       "    </tr>\n",
       "    <tr>\n",
       "      <th>3</th>\n",
       "      <td>500</td>\n",
       "      <td>0.349743</td>\n",
       "      <td>0.002000</td>\n",
       "      <td>-1.050557</td>\n",
       "    </tr>\n",
       "  </tbody>\n",
       "</table>\n",
       "</div>"
      ],
      "text/plain": [
       "   T [K]  D [Å²/ps]  1/T [1/K]      ln D\n",
       "0    350   0.146816   0.002857 -1.918573\n",
       "1    400   0.172602   0.002500 -1.756769\n",
       "2    450   0.225953   0.002222 -1.487429\n",
       "3    500   0.349743   0.002000 -1.050557"
      ]
     },
     "metadata": {},
     "output_type": "display_data"
    }
   ],
   "source": [
    "# Lists of values\n",
    "temperatures = [350, 400, 450, 500]\n",
    "diffusion_coeffs = [D_350, D_400, D_450, D_500]\n",
    "\n",
    "# Create the DataFrame\n",
    "df_diffusion_fits = pd.DataFrame({\n",
    "    'T [K]': temperatures,\n",
    "    'D [Å²/ps]': diffusion_coeffs\n",
    "})\n",
    "\n",
    "# Add derived columns\n",
    "df_diffusion_fits['1/T [1/K]'] = 1 / df_diffusion_fits['T [K]']\n",
    "df_diffusion_fits['ln D'] = np.log(df_diffusion_fits['D [Å²/ps]'])\n",
    "\n",
    "# Show it\n",
    "df_diffusion_fits"
   ]
  },
  {
   "cell_type": "markdown",
   "metadata": {},
   "source": [
    "Complete and execute the following snippet to fit the natural logarithm of the diffusion coefficient $\\ln D$ to a linear function of inverse temperature $1/T$, based on the Arrhenius equation:\n",
    "$$\n",
    "\\ln D = \\ln D_0 - \\frac{E_a}{k_B T}\n",
    "$$\n",
    "\n",
    "Be sure to input the correct column headers from the previous DataFrame where required.\n",
    "\n",
    "This allows you to extract two important physical parameters:\n",
    "\n",
    "- $D_0$: the pre-exponential factor (diffusivity at infinite temperature),\n",
    "\n",
    "- $E_a$: the activation energy (energy barrier for diffusion), in eV."
   ]
  },
  {
   "cell_type": "code",
   "execution_count": null,
   "metadata": {},
   "outputs": [
    {
     "name": "stdout",
     "output_type": "stream",
     "text": [
      "Fitted activation energy Ea = 0.084 eV\n",
      "Fitted pre-exponential factor D0 = 2.18e+00 Å²/ps\n"
     ]
    }
   ],
   "source": [
    "# COMPLETE AND EXECUTE THIS CELL\n",
    "# Extract values\n",
    "invT = df_diffusion_fits['header of the x column']\n",
    "lnD = df_diffusion_fits['header of the y column']\n",
    "\n",
    "# Define linear Arrhenius model\n",
    "def arrhenius_ln(invT, slope, intercept):\n",
    "    return slope * invT + intercept\n",
    "\n",
    "# Fit\n",
    "popt, _ = curve_fit(arrhenius_ln, invT, lnD)\n",
    "slope, intercept = popt\n",
    "\n",
    "# Extract physical parameters\n",
    "kB = 8.617e-5  # eV/K\n",
    "Ea_eV = -slope * kB\n",
    "D0 = np.exp(intercept)\n",
    "\n",
    "print(f\"Fitted activation energy Ea = {Ea_eV:.3f} eV\")\n",
    "print(f\"Fitted pre-exponential factor D0 = {D0:.2e} Å²/ps\")"
   ]
  },
  {
   "cell_type": "code",
   "execution_count": null,
   "metadata": {},
   "outputs": [
    {
     "data": {
      "image/png": "[encoded data removed]",
      "text/plain": [
       "<Figure size 640x480 with 1 Axes>"
      ]
     },
     "metadata": {},
     "output_type": "display_data"
    }
   ],
   "source": [
    "# EXECUTE THIS CELL\n",
    "sns.scatterplot(x=invT, y=lnD, label='data', color='teal')\n",
    "sns.lineplot(x=invT, y=arrhenius_ln(invT, slope, intercept), label='linear fit', color='tomato')\n",
    "\n",
    "plt.xlabel('1/T [1/K]')\n",
    "plt.ylabel('ln D')\n",
    "\n",
    "plt.grid(True, alpha=0.5)\n",
    "plt.legend()\n",
    "plt.show()"
   ]
  }
 ],
 "metadata": {
  "kernelspec": {
   "display_name": "tmms25",
   "language": "python",
   "name": "python3"
  },
  "language_info": {
   "codemirror_mode": {
    "name": "ipython",
    "version": 3
   },
   "file_extension": ".py",
   "mimetype": "text/x-python",
   "name": "python",
   "nbconvert_exporter": "python",
   "pygments_lexer": "ipython3",
   "version": "3.10.16"
  }
 },
 "nbformat": 4,
 "nbformat_minor": 2
}
