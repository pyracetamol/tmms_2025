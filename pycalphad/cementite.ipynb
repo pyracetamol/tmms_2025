{
 "cells": [
  {
   "cell_type": "code",
   "execution_count": 4,
   "metadata": {},
   "outputs": [
    {
     "data": {
      "text/html": [
       "<style>\n",
       "    body {\n",
       "        --vscode-font-family: \"CMU Sans Serif\"\n",
       "    }\n",
       "</style>\n"
      ],
      "text/plain": [
       "<IPython.core.display.HTML object>"
      ]
     },
     "metadata": {},
     "output_type": "display_data"
    }
   ],
   "source": [
    "%%HTML\n",
    "<style>\n",
    "    body {\n",
    "        --vscode-font-family: \"CMU Sans Serif\"\n",
    "    }\n",
    "</style>"
   ]
  },
  {
   "cell_type": "code",
   "execution_count": null,
   "metadata": {},
   "outputs": [],
   "source": [
    "#! pip install -U pycalphad"
   ]
  },
  {
   "cell_type": "code",
   "execution_count": 1,
   "metadata": {},
   "outputs": [],
   "source": [
    "import pycalphad\n",
    "from pycalphad import Database, Model, variables as v\n",
    "from pycalphad import calculate"
   ]
  },
  {
   "cell_type": "code",
   "execution_count": 2,
   "metadata": {
    "execution": {
     "iopub.execute_input": "2022-02-19T19:16:53.923299Z",
     "iopub.status.busy": "2022-02-19T19:16:53.923299Z",
     "iopub.status.idle": "2022-02-19T19:16:53.933979Z",
     "shell.execute_reply": "2022-02-19T19:16:53.932979Z"
    }
   },
   "outputs": [],
   "source": [
    "TDB = \"\"\"\n",
    " ELEMENT C    GRAPHITE                   12.011     1054.0      5.7423 ! \n",
    " ELEMENT FE   BCC_A2                     55.847     4489.0     27.2797 ! \n",
    " TYPE_DEFINITION % SEQ * !\n",
    " TYPE_DEFINITION A GES AMEND_PHASE_DESCRIPTION @ MAGNETIC -3 0.28 !\n",
    " PHASE CEMENTITE_D011 %A 2 3 1 !\n",
    " CONSTITUENT CEMENTITE_D011 : FE : C : !\n",
    " PARAMETER  G(CEMENTITE_D011,FE:C;0) 0.01 +GFECEM; 6000 N !\n",
    " PARAMETER  TC(CEMENTITE_D011,FE:C;0) 0.01 485.00; 6000 N !\n",
    " PARAMETER  BMAGN(CEMENTITE_D011,FE:C;0) 0.01 1.008; 6000 N !\n",
    " FUNCTION GFECEM      0.01  +11369.937746-5.641259263*T-8.333E-6*T4;\n",
    "        43.00  Y  +11622.647246-59.537709263*T+15.74232*T*LN(T)\n",
    "       -0.27565*T2;\n",
    "       163.00  Y  -10195.860754+690.949887637*T-118.47637*T*LN(T)\n",
    "                  -0.0007*T2+590527*T(-1);\n",
    "      6000.00  N !\n",
    "\"\"\""
   ]
  },
  {
   "cell_type": "code",
   "execution_count": 3,
   "metadata": {},
   "outputs": [
    {
     "name": "stdout",
     "output_type": "stream",
     "text": [
      "dict_keys(['CEMENTITE_D011'])\n"
     ]
    }
   ],
   "source": [
    "# Load the Fe-C database\n",
    "db = Database(TDB)\n",
    "\n",
    "# Inspect the phases\n",
    "print(db.phases.keys())"
   ]
  },
  {
   "cell_type": "markdown",
   "metadata": {},
   "source": [
    "# Heat Capacity of Cementite ($Fe_3C$)"
   ]
  },
  {
   "cell_type": "markdown",
   "metadata": {},
   "source": [
    "Bengt Hallstedt, Dejan Djurovic, Jörg von Appen, Richard Dronskowski, Alexey Dick, Fritz Körmann, Tilmann Hickel, Jörg Neugebauer, Thermodynamic properties of cementite, Calphad, Volume 34, Issue 1, March 2010, Pages 129-133, ISSN 0364-5916, http://dx.doi.org/10.1016/j.calphad.2010.01.004. (http://www.sciencedirect.com/science/article/pii/S0364591610000052)\n",
    "\n",
    "The TDB file used here differs slightly from the published TDB to ensure compatibility with pycalphad's TDB parser. All phases except cementite are omitted. The numerical results should be the same."
   ]
  },
  {
   "cell_type": "code",
   "execution_count": 5,
   "metadata": {},
   "outputs": [],
   "source": [
    "# Only needed in a Jupyter Notebook\n",
    "%matplotlib inline\n",
    "# Optional plot styling\n",
    "import matplotlib\n",
    "matplotlib.style.use('fivethirtyeight')\n",
    "\n",
    "import matplotlib.pyplot as plt\n",
    "import numpy as np"
   ]
  },
  {
   "cell_type": "code",
   "execution_count": null,
   "metadata": {},
   "outputs": [],
   "source": [
    "! pip install pycalphad"
   ]
  },
  {
   "cell_type": "markdown",
   "metadata": {},
   "source": [
    "We compute the molar heat capacity at all temperatures from 1K to 2000K with a step size of 0.1K."
   ]
  },
  {
   "cell_type": "code",
   "execution_count": 10,
   "metadata": {
    "execution": {
     "iopub.execute_input": "2022-02-19T19:16:54.901699Z",
     "iopub.status.busy": "2022-02-19T19:16:54.901699Z",
     "iopub.status.idle": "2022-02-19T19:16:56.661508Z",
     "shell.execute_reply": "2022-02-19T19:16:56.661508Z"
    }
   },
   "outputs": [],
   "source": [
    "from pycalphad import Workspace, as_property, variables as v\n",
    "\n",
    "wks = Workspace(TDB, ['FE', 'C'], 'CEMENTITE_D011',\n",
    "                {v.N:1,v.P: 1e5, v.T: (500, 2000, 0.1), v.X('C'): 0.25})"
   ]
  },
  {
   "cell_type": "markdown",
   "metadata": {},
   "source": [
    "The isobaric molar heat capacity is defined as the derivative of the total molar enthalpy (`HM`) with respect to temperature (`T`). We use \"Jansson derivative\" syntax to specify this as a property. In addition, we give this property a legible name and specify our desired physical units."
   ]
  },
  {
   "cell_type": "code",
   "execution_count": 12,
   "metadata": {},
   "outputs": [
    {
     "ename": "RuntimeError",
     "evalue": "T(-1.0)",
     "output_type": "error",
     "traceback": [
      "\u001b[31m---------------------------------------------------------------------------\u001b[39m",
      "\u001b[31mRuntimeError\u001b[39m                              Traceback (most recent call last)",
      "\u001b[36mCell\u001b[39m\u001b[36m \u001b[39m\u001b[32mIn[12]\u001b[39m\u001b[32m, line 1\u001b[39m\n\u001b[32m----> \u001b[39m\u001b[32m1\u001b[39m \u001b[43mwks\u001b[49m\u001b[43m.\u001b[49m\u001b[43mget\u001b[49m\u001b[43m(\u001b[49m\u001b[43mv\u001b[49m\u001b[43m.\u001b[49m\u001b[43mT\u001b[49m\u001b[43m)\u001b[49m\n",
      "\u001b[36mFile \u001b[39m\u001b[32m~/miniconda3/envs/pycalphad/lib/python3.13/site-packages/pycalphad/core/workspace.py:530\u001b[39m, in \u001b[36mWorkspace.get\u001b[39m\u001b[34m(self, *args)\u001b[39m\n\u001b[32m    529\u001b[39m \u001b[38;5;28;01mdef\u001b[39;00m\u001b[38;5;250m \u001b[39m\u001b[34mget\u001b[39m(\u001b[38;5;28mself\u001b[39m, *args: Tuple[ComputableProperty]):\n\u001b[32m--> \u001b[39m\u001b[32m530\u001b[39m     result = \u001b[38;5;28mlist\u001b[39m(\u001b[38;5;28;43mself\u001b[39;49m\u001b[43m.\u001b[49m\u001b[43mget_dict\u001b[49m\u001b[43m(\u001b[49m\u001b[43m*\u001b[49m\u001b[43margs\u001b[49m\u001b[43m)\u001b[49m.values())\n\u001b[32m    531\u001b[39m     \u001b[38;5;28;01mif\u001b[39;00m \u001b[38;5;28mlen\u001b[39m(result) != \u001b[32m1\u001b[39m:\n\u001b[32m    532\u001b[39m         \u001b[38;5;28;01mreturn\u001b[39;00m result\n",
      "\u001b[36mFile \u001b[39m\u001b[32m~/miniconda3/envs/pycalphad/lib/python3.13/site-packages/pycalphad/core/workspace.py:491\u001b[39m, in \u001b[36mWorkspace.get_dict\u001b[39m\u001b[34m(self, *args)\u001b[39m\n\u001b[32m    489\u001b[39m \u001b[38;5;28;01mdef\u001b[39;00m\u001b[38;5;250m \u001b[39m\u001b[34mget_dict\u001b[39m(\u001b[38;5;28mself\u001b[39m, *args: Tuple[ComputableProperty]):\n\u001b[32m    490\u001b[39m     args = \u001b[38;5;28mlist\u001b[39m(\u001b[38;5;28mmap\u001b[39m(as_property, args))\n\u001b[32m--> \u001b[39m\u001b[32m491\u001b[39m     \u001b[38;5;28;43mself\u001b[39;49m\u001b[43m.\u001b[49m\u001b[43m_expand_property_arguments\u001b[49m\u001b[43m(\u001b[49m\u001b[43margs\u001b[49m\u001b[43m)\u001b[49m\n\u001b[32m    492\u001b[39m     arg_units = {arg: (ureg.Unit(\u001b[38;5;28mgetattr\u001b[39m(arg, \u001b[33m'\u001b[39m\u001b[33mimplementation_units\u001b[39m\u001b[33m'\u001b[39m, \u001b[33m'\u001b[39m\u001b[33m'\u001b[39m)),\n\u001b[32m    493\u001b[39m                        ureg.Unit(\u001b[38;5;28mgetattr\u001b[39m(arg, \u001b[33m'\u001b[39m\u001b[33mdisplay_units\u001b[39m\u001b[33m'\u001b[39m, \u001b[33m'\u001b[39m\u001b[33m'\u001b[39m)))\n\u001b[32m    494\u001b[39m                  \u001b[38;5;28;01mfor\u001b[39;00m arg \u001b[38;5;129;01min\u001b[39;00m args}\n\u001b[32m    496\u001b[39m     arr_size = \u001b[38;5;28mself\u001b[39m.eq.GM.size\n",
      "\u001b[36mFile \u001b[39m\u001b[32m~/miniconda3/envs/pycalphad/lib/python3.13/site-packages/pycalphad/core/workspace.py:383\u001b[39m, in \u001b[36mWorkspace._expand_property_arguments\u001b[39m\u001b[34m(self, args)\u001b[39m\n\u001b[32m    381\u001b[39m \u001b[38;5;28;01mdef\u001b[39;00m\u001b[38;5;250m \u001b[39m\u001b[34m_expand_property_arguments\u001b[39m(\u001b[38;5;28mself\u001b[39m, args: Sequence[ComputableProperty]):\n\u001b[32m    382\u001b[39m     \u001b[33m\"\u001b[39m\u001b[33mMutates args\u001b[39m\u001b[33m\"\u001b[39m\n\u001b[32m--> \u001b[39m\u001b[32m383\u001b[39m     multiplicity = \u001b[38;5;28;43mself\u001b[39;49m\u001b[43m.\u001b[49m\u001b[43m_detect_phase_multiplicity\u001b[49m\u001b[43m(\u001b[49m\u001b[43m)\u001b[49m\n\u001b[32m    384\u001b[39m     indices_to_delete = []\n\u001b[32m    385\u001b[39m     i = \u001b[32m0\u001b[39m\n",
      "\u001b[36mFile \u001b[39m\u001b[32m~/miniconda3/envs/pycalphad/lib/python3.13/site-packages/pycalphad/core/workspace.py:369\u001b[39m, in \u001b[36mWorkspace._detect_phase_multiplicity\u001b[39m\u001b[34m(self)\u001b[39m\n\u001b[32m    367\u001b[39m \u001b[38;5;28;01mdef\u001b[39;00m\u001b[38;5;250m \u001b[39m\u001b[34m_detect_phase_multiplicity\u001b[39m(\u001b[38;5;28mself\u001b[39m):\n\u001b[32m    368\u001b[39m     multiplicity = {k: \u001b[32m0\u001b[39m \u001b[38;5;28;01mfor\u001b[39;00m k \u001b[38;5;129;01min\u001b[39;00m \u001b[38;5;28msorted\u001b[39m(\u001b[38;5;28mself\u001b[39m.phase_record_factory.keys())}\n\u001b[32m--> \u001b[39m\u001b[32m369\u001b[39m     prop_GM_values = \u001b[38;5;28;43mself\u001b[39;49m\u001b[43m.\u001b[49m\u001b[43meq\u001b[49m.GM\n\u001b[32m    370\u001b[39m     prop_Phase_values = \u001b[38;5;28mself\u001b[39m.eq.Phase\n\u001b[32m    371\u001b[39m     \u001b[38;5;28;01mfor\u001b[39;00m index \u001b[38;5;129;01min\u001b[39;00m np.ndindex(prop_GM_values.shape):\n",
      "\u001b[36mFile \u001b[39m\u001b[32m~/miniconda3/envs/pycalphad/lib/python3.13/site-packages/pycalphad/core/workspace.py:282\u001b[39m, in \u001b[36mEquilibriumCalculationField.__get__\u001b[39m\u001b[34m(self, obj, objtype)\u001b[39m\n\u001b[32m    280\u001b[39m \u001b[38;5;28;01mif\u001b[39;00m (\u001b[38;5;129;01mnot\u001b[39;00m \u001b[38;5;28mhasattr\u001b[39m(obj, \u001b[38;5;28mself\u001b[39m.private_name)) \u001b[38;5;129;01mor\u001b[39;00m (\u001b[38;5;28mgetattr\u001b[39m(obj, \u001b[38;5;28mself\u001b[39m.private_name) \u001b[38;5;129;01mis\u001b[39;00m \u001b[38;5;28;01mNone\u001b[39;00m):\n\u001b[32m    281\u001b[39m     \u001b[38;5;28;01mtry\u001b[39;00m:\n\u001b[32m--> \u001b[39m\u001b[32m282\u001b[39m         default_value = \u001b[43mobj\u001b[49m\u001b[43m.\u001b[49m\u001b[43mrecompute\u001b[49m\u001b[43m(\u001b[49m\u001b[43m)\u001b[49m\n\u001b[32m    283\u001b[39m     \u001b[38;5;28;01mexcept\u001b[39;00m \u001b[38;5;167;01mAttributeError\u001b[39;00m:\n\u001b[32m    284\u001b[39m         default_value = \u001b[38;5;28;01mNone\u001b[39;00m\n",
      "\u001b[36mFile \u001b[39m\u001b[32m~/miniconda3/envs/pycalphad/lib/python3.13/site-packages/pycalphad/core/workspace.py:359\u001b[39m, in \u001b[36mWorkspace.recompute\u001b[39m\u001b[34m(self)\u001b[39m\n\u001b[32m    356\u001b[39m \u001b[38;5;28;01mif\u001b[39;00m \u001b[33m'\u001b[39m\u001b[33mpdens\u001b[39m\u001b[33m'\u001b[39m \u001b[38;5;129;01mnot\u001b[39;00m \u001b[38;5;129;01min\u001b[39;00m grid_opts:\n\u001b[32m    357\u001b[39m     grid_opts[\u001b[33m'\u001b[39m\u001b[33mpdens\u001b[39m\u001b[33m'\u001b[39m] = \u001b[32m60\u001b[39m\n\u001b[32m--> \u001b[39m\u001b[32m359\u001b[39m grid = \u001b[43mcalculate\u001b[49m\u001b[43m(\u001b[49m\u001b[38;5;28;43mself\u001b[39;49m\u001b[43m.\u001b[49m\u001b[43mdatabase\u001b[49m\u001b[43m,\u001b[49m\u001b[43m \u001b[49m\u001b[38;5;28;43mself\u001b[39;49m\u001b[43m.\u001b[49m\u001b[43mcomponents\u001b[49m\u001b[43m,\u001b[49m\u001b[43m \u001b[49m\u001b[38;5;28;43mself\u001b[39;49m\u001b[43m.\u001b[49m\u001b[43mphases\u001b[49m\u001b[43m,\u001b[49m\u001b[43m \u001b[49m\u001b[43mmodel\u001b[49m\u001b[43m=\u001b[49m\u001b[38;5;28;43mself\u001b[39;49m\u001b[43m.\u001b[49m\u001b[43mmodels\u001b[49m\u001b[43m.\u001b[49m\u001b[43munwrap\u001b[49m\u001b[43m(\u001b[49m\u001b[43m)\u001b[49m\u001b[43m,\u001b[49m\u001b[43m \u001b[49m\u001b[43mfake_points\u001b[49m\u001b[43m=\u001b[49m\u001b[38;5;28;43;01mTrue\u001b[39;49;00m\u001b[43m,\u001b[49m\n\u001b[32m    360\u001b[39m \u001b[43m                \u001b[49m\u001b[43mphase_records\u001b[49m\u001b[43m=\u001b[49m\u001b[38;5;28;43mself\u001b[39;49m\u001b[43m.\u001b[49m\u001b[43mphase_record_factory\u001b[49m\u001b[43m,\u001b[49m\u001b[43m \u001b[49m\u001b[43moutput\u001b[49m\u001b[43m=\u001b[49m\u001b[33;43m'\u001b[39;49m\u001b[33;43mGM\u001b[39;49m\u001b[33;43m'\u001b[39;49m\u001b[43m,\u001b[49m\u001b[43m \u001b[49m\u001b[43mparameters\u001b[49m\u001b[43m=\u001b[49m\u001b[38;5;28;43mself\u001b[39;49m\u001b[43m.\u001b[49m\u001b[43mparameters\u001b[49m\u001b[43m.\u001b[49m\u001b[43munwrap\u001b[49m\u001b[43m(\u001b[49m\u001b[43m)\u001b[49m\u001b[43m,\u001b[49m\n\u001b[32m    361\u001b[39m \u001b[43m                \u001b[49m\u001b[43mto_xarray\u001b[49m\u001b[43m=\u001b[49m\u001b[38;5;28;43;01mFalse\u001b[39;49;00m\u001b[43m,\u001b[49m\u001b[43m \u001b[49m\u001b[43mconditions\u001b[49m\u001b[43m=\u001b[49m\u001b[43mlocal_conds\u001b[49m\u001b[43m,\u001b[49m\u001b[43m \u001b[49m\u001b[43m*\u001b[49m\u001b[43m*\u001b[49m\u001b[43mgrid_opts\u001b[49m\u001b[43m)\u001b[49m\n\u001b[32m    362\u001b[39m properties = starting_point(unitless_conds, state_variables, \u001b[38;5;28mself\u001b[39m.phase_record_factory, grid)\n\u001b[32m    363\u001b[39m \u001b[38;5;28;01mreturn\u001b[39;00m _solve_eq_at_conditions(properties, \u001b[38;5;28mself\u001b[39m.phase_record_factory, grid,\n\u001b[32m    364\u001b[39m                                \u001b[38;5;28mlist\u001b[39m(unitless_conds.keys()), state_variables,\n\u001b[32m    365\u001b[39m                                \u001b[38;5;28mself\u001b[39m.verbose, solver=\u001b[38;5;28mself\u001b[39m.solver)\n",
      "\u001b[36mFile \u001b[39m\u001b[32m~/miniconda3/envs/pycalphad/lib/python3.13/site-packages/pycalphad/core/calculate.py:513\u001b[39m, in \u001b[36mcalculate\u001b[39m\u001b[34m(dbf, comps, phases, mode, output, fake_points, broadcast, parameters, to_xarray, phase_records, conditions, **kwargs)\u001b[39m\n\u001b[32m    510\u001b[39m     points = np.atleast_2d(points)\n\u001b[32m    512\u001b[39m     fp = fake_points \u001b[38;5;129;01mand\u001b[39;00m (phase_name == \u001b[38;5;28msorted\u001b[39m(active_phases)[\u001b[32m0\u001b[39m])\n\u001b[32m--> \u001b[39m\u001b[32m513\u001b[39m     phase_ds = \u001b[43m_compute_phase_values\u001b[49m\u001b[43m(\u001b[49m\u001b[43mnonvacant_components\u001b[49m\u001b[43m,\u001b[49m\u001b[43m \u001b[49m\u001b[43mstr_statevar_dict\u001b[49m\u001b[43m,\u001b[49m\u001b[43m \u001b[49m\u001b[43mstr_phase_local_conditions\u001b[49m\u001b[43m,\u001b[49m\n\u001b[32m    514\u001b[39m \u001b[43m                                     \u001b[49m\u001b[43mpoints\u001b[49m\u001b[43m,\u001b[49m\u001b[43m \u001b[49m\u001b[43mphase_record\u001b[49m\u001b[43m,\u001b[49m\u001b[43m \u001b[49m\u001b[43moutput\u001b[49m\u001b[43m,\u001b[49m\n\u001b[32m    515\u001b[39m \u001b[43m                                     \u001b[49m\u001b[43mmaximum_internal_dof\u001b[49m\u001b[43m,\u001b[49m\u001b[43m \u001b[49m\u001b[43mbroadcast\u001b[49m\u001b[43m=\u001b[49m\u001b[43mbroadcast\u001b[49m\u001b[43m,\u001b[49m\u001b[43m \u001b[49m\u001b[43mparameters\u001b[49m\u001b[43m=\u001b[49m\u001b[43mparameters\u001b[49m\u001b[43m,\u001b[49m\n\u001b[32m    516\u001b[39m \u001b[43m                                     \u001b[49m\u001b[43mlargest_energy\u001b[49m\u001b[43m=\u001b[49m\u001b[38;5;28;43mfloat\u001b[39;49m\u001b[43m(\u001b[49m\u001b[43mlargest_energy\u001b[49m\u001b[43m)\u001b[49m\u001b[43m,\u001b[49m\u001b[43m \u001b[49m\u001b[43mfake_points\u001b[49m\u001b[43m=\u001b[49m\u001b[43mfp\u001b[49m\u001b[43m)\u001b[49m\n\u001b[32m    517\u001b[39m     all_phase_data.append(phase_ds)\n\u001b[32m    519\u001b[39m fp_offset = \u001b[38;5;28mlen\u001b[39m(nonvacant_elements) \u001b[38;5;28;01mif\u001b[39;00m fake_points \u001b[38;5;28;01melse\u001b[39;00m \u001b[32m0\u001b[39m\n",
      "\u001b[36mFile \u001b[39m\u001b[32m~/miniconda3/envs/pycalphad/lib/python3.13/site-packages/pycalphad/core/calculate.py:271\u001b[39m, in \u001b[36m_compute_phase_values\u001b[39m\u001b[34m(components, statevar_dict, str_phase_local_conditions, points, phase_record, output, maximum_internal_dof, broadcast, parameters, fake_points, largest_energy)\u001b[39m\n\u001b[32m    268\u001b[39m \u001b[38;5;28;01mif\u001b[39;00m parameter_array_length == \u001b[32m0\u001b[39m:\n\u001b[32m    269\u001b[39m     \u001b[38;5;66;03m# No parameters specified\u001b[39;00m\n\u001b[32m    270\u001b[39m     phase_output = np.zeros(dof.shape[\u001b[32m0\u001b[39m], order=\u001b[33m'\u001b[39m\u001b[33mC\u001b[39m\u001b[33m'\u001b[39m)\n\u001b[32m--> \u001b[39m\u001b[32m271\u001b[39m     \u001b[43mphase_record\u001b[49m\u001b[43m.\u001b[49m\u001b[43mprop_2d\u001b[49m\u001b[43m(\u001b[49m\u001b[43mphase_output\u001b[49m\u001b[43m,\u001b[49m\u001b[43m \u001b[49m\u001b[43mdof\u001b[49m\u001b[43m,\u001b[49m\u001b[43m \u001b[49m\u001b[43moutput\u001b[49m\u001b[43m.\u001b[49m\u001b[43mencode\u001b[49m\u001b[43m(\u001b[49m\u001b[33;43m'\u001b[39;49m\u001b[33;43mutf-8\u001b[39;49m\u001b[33;43m'\u001b[39;49m\u001b[43m)\u001b[49m\u001b[43m)\u001b[49m\n\u001b[32m    272\u001b[39m \u001b[38;5;28;01melse\u001b[39;00m:\n\u001b[32m    273\u001b[39m     \u001b[38;5;66;03m# Vectorized parameter arrays\u001b[39;00m\n\u001b[32m    274\u001b[39m     phase_output = np.zeros((dof.shape[\u001b[32m0\u001b[39m], parameter_array_length), order=\u001b[33m'\u001b[39m\u001b[33mC\u001b[39m\u001b[33m'\u001b[39m)\n",
      "\u001b[36mFile \u001b[39m\u001b[32mpycalphad/core/phase_rec.pyx:219\u001b[39m, in \u001b[36mpycalphad.core.phase_rec.PhaseRecord.prop_2d\u001b[39m\u001b[34m()\u001b[39m\n",
      "\u001b[36mFile \u001b[39m\u001b[32mpycalphad/core/phase_rec.pyx:225\u001b[39m, in \u001b[36mpycalphad.core.phase_rec.PhaseRecord.prop_2d\u001b[39m\u001b[34m()\u001b[39m\n",
      "\u001b[36mFile \u001b[39m\u001b[32mpycalphad/core/phase_rec.pyx:53\u001b[39m, in \u001b[36mpycalphad.core.phase_rec.FastFunctionFactory.get_func\u001b[39m\u001b[34m()\u001b[39m\n",
      "\u001b[36mFile \u001b[39m\u001b[32m~/miniconda3/envs/pycalphad/lib/python3.13/site-packages/pycalphad/codegen/phase_record_factory.py:58\u001b[39m, in \u001b[36mPhaseRecordFactory.get_phase_property\u001b[39m\u001b[34m(self, phase_name, property_name, include_grad, include_hess)\u001b[39m\n\u001b[32m     56\u001b[39m undef_vals = repeat(\u001b[32m0.\u001b[39m, \u001b[38;5;28mlen\u001b[39m(undefs))\n\u001b[32m     57\u001b[39m out = out.xreplace(\u001b[38;5;28mdict\u001b[39m(\u001b[38;5;28mzip\u001b[39m(undefs, undef_vals)))\n\u001b[32m---> \u001b[39m\u001b[32m58\u001b[39m build_output = \u001b[43mbuild_functions\u001b[49m\u001b[43m(\u001b[49m\u001b[43mout\u001b[49m\u001b[43m,\u001b[49m\u001b[43m \u001b[49m\u001b[38;5;28;43mtuple\u001b[39;49m\u001b[43m(\u001b[49m\u001b[38;5;28;43mself\u001b[39;49m\u001b[43m.\u001b[49m\u001b[43mstate_variables\u001b[49m\u001b[43m \u001b[49m\u001b[43m+\u001b[49m\u001b[43m \u001b[49m\u001b[43mmod\u001b[49m\u001b[43m.\u001b[49m\u001b[43msite_fractions\u001b[49m\u001b[43m)\u001b[49m\u001b[43m,\u001b[49m\u001b[43m \u001b[49m\u001b[43mparameters\u001b[49m\u001b[43m=\u001b[49m\u001b[38;5;28;43mself\u001b[39;49m\u001b[43m.\u001b[49m\u001b[43mparam_symbols\u001b[49m\u001b[43m,\u001b[49m\n\u001b[32m     59\u001b[39m \u001b[43m                               \u001b[49m\u001b[43minclude_grad\u001b[49m\u001b[43m=\u001b[49m\u001b[43minclude_grad\u001b[49m\u001b[43m,\u001b[49m\u001b[43m \u001b[49m\u001b[43minclude_hess\u001b[49m\u001b[43m=\u001b[49m\u001b[43minclude_hess\u001b[49m\u001b[43m)\u001b[49m\n\u001b[32m     60\u001b[39m \u001b[38;5;28;01mreturn\u001b[39;00m build_output\n",
      "\u001b[36mFile \u001b[39m\u001b[32m~/miniconda3/envs/pycalphad/lib/python3.13/site-packages/pycalphad/core/cache.py:141\u001b[39m, in \u001b[36mlru_cache.<locals>.decorating_function.<locals>.wrapper\u001b[39m\u001b[34m(*args, **kwds)\u001b[39m\n\u001b[32m    139\u001b[39m         stats[HITS] += \u001b[32m1\u001b[39m\n\u001b[32m    140\u001b[39m         \u001b[38;5;28;01mreturn\u001b[39;00m result\n\u001b[32m--> \u001b[39m\u001b[32m141\u001b[39m result = \u001b[43muser_function\u001b[49m\u001b[43m(\u001b[49m\u001b[43m*\u001b[49m\u001b[43margs\u001b[49m\u001b[43m,\u001b[49m\u001b[43m \u001b[49m\u001b[43m*\u001b[49m\u001b[43m*\u001b[49m\u001b[43mkwds\u001b[49m\u001b[43m)\u001b[49m\n\u001b[32m    142\u001b[39m \u001b[38;5;28;01mwith\u001b[39;00m lock:\n\u001b[32m    143\u001b[39m     root, = nonlocal_root\n",
      "\u001b[36mFile \u001b[39m\u001b[32m~/miniconda3/envs/pycalphad/lib/python3.13/site-packages/pycalphad/codegen/sympydiff_utils.py:117\u001b[39m, in \u001b[36mbuild_functions\u001b[39m\u001b[34m(symengine_graph, variables, parameters, wrt, include_obj, include_grad, include_hess, func_options, grad_options, hess_options)\u001b[39m\n\u001b[32m    115\u001b[39m inp = sympify(variables + parameters)\n\u001b[32m    116\u001b[39m graph = sympify(symengine_graph).xreplace({zoo: oo})\n\u001b[32m--> \u001b[39m\u001b[32m117\u001b[39m func = \u001b[43mlambdify\u001b[49m\u001b[43m(\u001b[49m\u001b[43minp\u001b[49m\u001b[43m,\u001b[49m\u001b[43m \u001b[49m\u001b[43m[\u001b[49m\u001b[43mgraph\u001b[49m\u001b[43m]\u001b[49m\u001b[43m,\u001b[49m\u001b[43m \u001b[49m\u001b[43m*\u001b[49m\u001b[43m*\u001b[49m\u001b[43m_get_lambidfy_options\u001b[49m\u001b[43m(\u001b[49m\u001b[43mfunc_options\u001b[49m\u001b[43m)\u001b[49m\u001b[43m)\u001b[49m\n\u001b[32m    118\u001b[39m \u001b[38;5;28;01mif\u001b[39;00m include_grad \u001b[38;5;129;01mor\u001b[39;00m include_hess:\n\u001b[32m    119\u001b[39m     grad_graphs = \u001b[38;5;28mlist\u001b[39m(graph.diff(w).xreplace({zoo: oo}) \u001b[38;5;28;01mfor\u001b[39;00m w \u001b[38;5;129;01min\u001b[39;00m wrt)\n",
      "\u001b[36mFile \u001b[39m\u001b[32m~/miniconda3/envs/pycalphad/lib/python3.13/site-packages/symengine/__init__.py:58\u001b[39m, in \u001b[36mlambdify\u001b[39m\u001b[34m(args, exprs, **kwargs)\u001b[39m\n\u001b[32m     57\u001b[39m \u001b[38;5;28;01mdef\u001b[39;00m\u001b[38;5;250m \u001b[39m\u001b[34mlambdify\u001b[39m(args, exprs, **kwargs):\n\u001b[32m---> \u001b[39m\u001b[32m58\u001b[39m     \u001b[38;5;28;01mreturn\u001b[39;00m \u001b[43mLambdify\u001b[49m\u001b[43m(\u001b[49m\u001b[43margs\u001b[49m\u001b[43m,\u001b[49m\u001b[43m \u001b[49m\u001b[43m*\u001b[49m\u001b[43mexprs\u001b[49m\u001b[43m,\u001b[49m\u001b[43m \u001b[49m\u001b[43m*\u001b[49m\u001b[43m*\u001b[49m\u001b[43mkwargs\u001b[49m\u001b[43m)\u001b[49m\n",
      "\u001b[36mFile \u001b[39m\u001b[32msymengine_wrapper.pyx:5403\u001b[39m, in \u001b[36msymengine.lib.symengine_wrapper.Lambdify\u001b[39m\u001b[34m()\u001b[39m\n",
      "\u001b[36mFile \u001b[39m\u001b[32msymengine_wrapper.pyx:4991\u001b[39m, in \u001b[36msymengine.lib.symengine_wrapper._Lambdify.__init__\u001b[39m\u001b[34m()\u001b[39m\n",
      "\u001b[36mFile \u001b[39m\u001b[32msymengine_wrapper.pyx:5224\u001b[39m, in \u001b[36msymengine.lib.symengine_wrapper.LLVMDouble._init\u001b[39m\u001b[34m()\u001b[39m\n",
      "\u001b[31mRuntimeError\u001b[39m: T(-1.0)"
     ]
    }
   ],
   "source": [
    "wks.get(v.T)"
   ]
  },
  {
   "cell_type": "code",
   "execution_count": 11,
   "metadata": {
    "execution": {
     "iopub.execute_input": "2022-02-19T19:16:56.761125Z",
     "iopub.status.busy": "2022-02-19T19:16:56.761125Z",
     "iopub.status.idle": "2022-02-19T19:16:56.981139Z",
     "shell.execute_reply": "2022-02-19T19:16:56.981139Z"
    }
   },
   "outputs": [
    {
     "ename": "RuntimeError",
     "evalue": "T(-1.0)",
     "output_type": "error",
     "traceback": [
      "\u001b[31m---------------------------------------------------------------------------\u001b[39m",
      "\u001b[31mRuntimeError\u001b[39m                              Traceback (most recent call last)",
      "\u001b[36mCell\u001b[39m\u001b[36m \u001b[39m\u001b[32mIn[11]\u001b[39m\u001b[32m, line 4\u001b[39m\n\u001b[32m      2\u001b[39m heat_capacity.display_name = \u001b[33m'\u001b[39m\u001b[33mIsobaric Heat Capacity\u001b[39m\u001b[33m'\u001b[39m\n\u001b[32m      3\u001b[39m heat_capacity.display_units = \u001b[33m'\u001b[39m\u001b[33mJ/mol/K\u001b[39m\u001b[33m'\u001b[39m\n\u001b[32m----> \u001b[39m\u001b[32m4\u001b[39m plt.plot(\u001b[43mwks\u001b[49m\u001b[43m.\u001b[49m\u001b[43mget\u001b[49m\u001b[43m(\u001b[49m\u001b[43mv\u001b[49m\u001b[43m.\u001b[49m\u001b[43mT\u001b[49m\u001b[43m)\u001b[49m, wks.get(heat_capacity))\n\u001b[32m      5\u001b[39m plt.xlabel(\u001b[33mf\u001b[39m\u001b[33m'\u001b[39m\u001b[38;5;132;01m{\u001b[39;00mv.T.display_name\u001b[38;5;132;01m}\u001b[39;00m\u001b[33m [\u001b[39m\u001b[38;5;132;01m{\u001b[39;00mv.T.display_units\u001b[38;5;132;01m}\u001b[39;00m\u001b[33m]\u001b[39m\u001b[33m'\u001b[39m)\n\u001b[32m      6\u001b[39m plt.ylabel(\u001b[33mf\u001b[39m\u001b[33m'\u001b[39m\u001b[38;5;132;01m{\u001b[39;00mheat_capacity.display_name\u001b[38;5;132;01m}\u001b[39;00m\u001b[33m [\u001b[39m\u001b[38;5;132;01m{\u001b[39;00mheat_capacity.display_units\u001b[38;5;132;01m}\u001b[39;00m\u001b[33m]\u001b[39m\u001b[33m'\u001b[39m)\n",
      "\u001b[36mFile \u001b[39m\u001b[32m~/miniconda3/envs/pycalphad/lib/python3.13/site-packages/pycalphad/core/workspace.py:530\u001b[39m, in \u001b[36mWorkspace.get\u001b[39m\u001b[34m(self, *args)\u001b[39m\n\u001b[32m    529\u001b[39m \u001b[38;5;28;01mdef\u001b[39;00m\u001b[38;5;250m \u001b[39m\u001b[34mget\u001b[39m(\u001b[38;5;28mself\u001b[39m, *args: Tuple[ComputableProperty]):\n\u001b[32m--> \u001b[39m\u001b[32m530\u001b[39m     result = \u001b[38;5;28mlist\u001b[39m(\u001b[38;5;28;43mself\u001b[39;49m\u001b[43m.\u001b[49m\u001b[43mget_dict\u001b[49m\u001b[43m(\u001b[49m\u001b[43m*\u001b[49m\u001b[43margs\u001b[49m\u001b[43m)\u001b[49m.values())\n\u001b[32m    531\u001b[39m     \u001b[38;5;28;01mif\u001b[39;00m \u001b[38;5;28mlen\u001b[39m(result) != \u001b[32m1\u001b[39m:\n\u001b[32m    532\u001b[39m         \u001b[38;5;28;01mreturn\u001b[39;00m result\n",
      "\u001b[36mFile \u001b[39m\u001b[32m~/miniconda3/envs/pycalphad/lib/python3.13/site-packages/pycalphad/core/workspace.py:491\u001b[39m, in \u001b[36mWorkspace.get_dict\u001b[39m\u001b[34m(self, *args)\u001b[39m\n\u001b[32m    489\u001b[39m \u001b[38;5;28;01mdef\u001b[39;00m\u001b[38;5;250m \u001b[39m\u001b[34mget_dict\u001b[39m(\u001b[38;5;28mself\u001b[39m, *args: Tuple[ComputableProperty]):\n\u001b[32m    490\u001b[39m     args = \u001b[38;5;28mlist\u001b[39m(\u001b[38;5;28mmap\u001b[39m(as_property, args))\n\u001b[32m--> \u001b[39m\u001b[32m491\u001b[39m     \u001b[38;5;28;43mself\u001b[39;49m\u001b[43m.\u001b[49m\u001b[43m_expand_property_arguments\u001b[49m\u001b[43m(\u001b[49m\u001b[43margs\u001b[49m\u001b[43m)\u001b[49m\n\u001b[32m    492\u001b[39m     arg_units = {arg: (ureg.Unit(\u001b[38;5;28mgetattr\u001b[39m(arg, \u001b[33m'\u001b[39m\u001b[33mimplementation_units\u001b[39m\u001b[33m'\u001b[39m, \u001b[33m'\u001b[39m\u001b[33m'\u001b[39m)),\n\u001b[32m    493\u001b[39m                        ureg.Unit(\u001b[38;5;28mgetattr\u001b[39m(arg, \u001b[33m'\u001b[39m\u001b[33mdisplay_units\u001b[39m\u001b[33m'\u001b[39m, \u001b[33m'\u001b[39m\u001b[33m'\u001b[39m)))\n\u001b[32m    494\u001b[39m                  \u001b[38;5;28;01mfor\u001b[39;00m arg \u001b[38;5;129;01min\u001b[39;00m args}\n\u001b[32m    496\u001b[39m     arr_size = \u001b[38;5;28mself\u001b[39m.eq.GM.size\n",
      "\u001b[36mFile \u001b[39m\u001b[32m~/miniconda3/envs/pycalphad/lib/python3.13/site-packages/pycalphad/core/workspace.py:383\u001b[39m, in \u001b[36mWorkspace._expand_property_arguments\u001b[39m\u001b[34m(self, args)\u001b[39m\n\u001b[32m    381\u001b[39m \u001b[38;5;28;01mdef\u001b[39;00m\u001b[38;5;250m \u001b[39m\u001b[34m_expand_property_arguments\u001b[39m(\u001b[38;5;28mself\u001b[39m, args: Sequence[ComputableProperty]):\n\u001b[32m    382\u001b[39m     \u001b[33m\"\u001b[39m\u001b[33mMutates args\u001b[39m\u001b[33m\"\u001b[39m\n\u001b[32m--> \u001b[39m\u001b[32m383\u001b[39m     multiplicity = \u001b[38;5;28;43mself\u001b[39;49m\u001b[43m.\u001b[49m\u001b[43m_detect_phase_multiplicity\u001b[49m\u001b[43m(\u001b[49m\u001b[43m)\u001b[49m\n\u001b[32m    384\u001b[39m     indices_to_delete = []\n\u001b[32m    385\u001b[39m     i = \u001b[32m0\u001b[39m\n",
      "\u001b[36mFile \u001b[39m\u001b[32m~/miniconda3/envs/pycalphad/lib/python3.13/site-packages/pycalphad/core/workspace.py:369\u001b[39m, in \u001b[36mWorkspace._detect_phase_multiplicity\u001b[39m\u001b[34m(self)\u001b[39m\n\u001b[32m    367\u001b[39m \u001b[38;5;28;01mdef\u001b[39;00m\u001b[38;5;250m \u001b[39m\u001b[34m_detect_phase_multiplicity\u001b[39m(\u001b[38;5;28mself\u001b[39m):\n\u001b[32m    368\u001b[39m     multiplicity = {k: \u001b[32m0\u001b[39m \u001b[38;5;28;01mfor\u001b[39;00m k \u001b[38;5;129;01min\u001b[39;00m \u001b[38;5;28msorted\u001b[39m(\u001b[38;5;28mself\u001b[39m.phase_record_factory.keys())}\n\u001b[32m--> \u001b[39m\u001b[32m369\u001b[39m     prop_GM_values = \u001b[38;5;28;43mself\u001b[39;49m\u001b[43m.\u001b[49m\u001b[43meq\u001b[49m.GM\n\u001b[32m    370\u001b[39m     prop_Phase_values = \u001b[38;5;28mself\u001b[39m.eq.Phase\n\u001b[32m    371\u001b[39m     \u001b[38;5;28;01mfor\u001b[39;00m index \u001b[38;5;129;01min\u001b[39;00m np.ndindex(prop_GM_values.shape):\n",
      "\u001b[36mFile \u001b[39m\u001b[32m~/miniconda3/envs/pycalphad/lib/python3.13/site-packages/pycalphad/core/workspace.py:282\u001b[39m, in \u001b[36mEquilibriumCalculationField.__get__\u001b[39m\u001b[34m(self, obj, objtype)\u001b[39m\n\u001b[32m    280\u001b[39m \u001b[38;5;28;01mif\u001b[39;00m (\u001b[38;5;129;01mnot\u001b[39;00m \u001b[38;5;28mhasattr\u001b[39m(obj, \u001b[38;5;28mself\u001b[39m.private_name)) \u001b[38;5;129;01mor\u001b[39;00m (\u001b[38;5;28mgetattr\u001b[39m(obj, \u001b[38;5;28mself\u001b[39m.private_name) \u001b[38;5;129;01mis\u001b[39;00m \u001b[38;5;28;01mNone\u001b[39;00m):\n\u001b[32m    281\u001b[39m     \u001b[38;5;28;01mtry\u001b[39;00m:\n\u001b[32m--> \u001b[39m\u001b[32m282\u001b[39m         default_value = \u001b[43mobj\u001b[49m\u001b[43m.\u001b[49m\u001b[43mrecompute\u001b[49m\u001b[43m(\u001b[49m\u001b[43m)\u001b[49m\n\u001b[32m    283\u001b[39m     \u001b[38;5;28;01mexcept\u001b[39;00m \u001b[38;5;167;01mAttributeError\u001b[39;00m:\n\u001b[32m    284\u001b[39m         default_value = \u001b[38;5;28;01mNone\u001b[39;00m\n",
      "\u001b[36mFile \u001b[39m\u001b[32m~/miniconda3/envs/pycalphad/lib/python3.13/site-packages/pycalphad/core/workspace.py:359\u001b[39m, in \u001b[36mWorkspace.recompute\u001b[39m\u001b[34m(self)\u001b[39m\n\u001b[32m    356\u001b[39m \u001b[38;5;28;01mif\u001b[39;00m \u001b[33m'\u001b[39m\u001b[33mpdens\u001b[39m\u001b[33m'\u001b[39m \u001b[38;5;129;01mnot\u001b[39;00m \u001b[38;5;129;01min\u001b[39;00m grid_opts:\n\u001b[32m    357\u001b[39m     grid_opts[\u001b[33m'\u001b[39m\u001b[33mpdens\u001b[39m\u001b[33m'\u001b[39m] = \u001b[32m60\u001b[39m\n\u001b[32m--> \u001b[39m\u001b[32m359\u001b[39m grid = \u001b[43mcalculate\u001b[49m\u001b[43m(\u001b[49m\u001b[38;5;28;43mself\u001b[39;49m\u001b[43m.\u001b[49m\u001b[43mdatabase\u001b[49m\u001b[43m,\u001b[49m\u001b[43m \u001b[49m\u001b[38;5;28;43mself\u001b[39;49m\u001b[43m.\u001b[49m\u001b[43mcomponents\u001b[49m\u001b[43m,\u001b[49m\u001b[43m \u001b[49m\u001b[38;5;28;43mself\u001b[39;49m\u001b[43m.\u001b[49m\u001b[43mphases\u001b[49m\u001b[43m,\u001b[49m\u001b[43m \u001b[49m\u001b[43mmodel\u001b[49m\u001b[43m=\u001b[49m\u001b[38;5;28;43mself\u001b[39;49m\u001b[43m.\u001b[49m\u001b[43mmodels\u001b[49m\u001b[43m.\u001b[49m\u001b[43munwrap\u001b[49m\u001b[43m(\u001b[49m\u001b[43m)\u001b[49m\u001b[43m,\u001b[49m\u001b[43m \u001b[49m\u001b[43mfake_points\u001b[49m\u001b[43m=\u001b[49m\u001b[38;5;28;43;01mTrue\u001b[39;49;00m\u001b[43m,\u001b[49m\n\u001b[32m    360\u001b[39m \u001b[43m                \u001b[49m\u001b[43mphase_records\u001b[49m\u001b[43m=\u001b[49m\u001b[38;5;28;43mself\u001b[39;49m\u001b[43m.\u001b[49m\u001b[43mphase_record_factory\u001b[49m\u001b[43m,\u001b[49m\u001b[43m \u001b[49m\u001b[43moutput\u001b[49m\u001b[43m=\u001b[49m\u001b[33;43m'\u001b[39;49m\u001b[33;43mGM\u001b[39;49m\u001b[33;43m'\u001b[39;49m\u001b[43m,\u001b[49m\u001b[43m \u001b[49m\u001b[43mparameters\u001b[49m\u001b[43m=\u001b[49m\u001b[38;5;28;43mself\u001b[39;49m\u001b[43m.\u001b[49m\u001b[43mparameters\u001b[49m\u001b[43m.\u001b[49m\u001b[43munwrap\u001b[49m\u001b[43m(\u001b[49m\u001b[43m)\u001b[49m\u001b[43m,\u001b[49m\n\u001b[32m    361\u001b[39m \u001b[43m                \u001b[49m\u001b[43mto_xarray\u001b[49m\u001b[43m=\u001b[49m\u001b[38;5;28;43;01mFalse\u001b[39;49;00m\u001b[43m,\u001b[49m\u001b[43m \u001b[49m\u001b[43mconditions\u001b[49m\u001b[43m=\u001b[49m\u001b[43mlocal_conds\u001b[49m\u001b[43m,\u001b[49m\u001b[43m \u001b[49m\u001b[43m*\u001b[49m\u001b[43m*\u001b[49m\u001b[43mgrid_opts\u001b[49m\u001b[43m)\u001b[49m\n\u001b[32m    362\u001b[39m properties = starting_point(unitless_conds, state_variables, \u001b[38;5;28mself\u001b[39m.phase_record_factory, grid)\n\u001b[32m    363\u001b[39m \u001b[38;5;28;01mreturn\u001b[39;00m _solve_eq_at_conditions(properties, \u001b[38;5;28mself\u001b[39m.phase_record_factory, grid,\n\u001b[32m    364\u001b[39m                                \u001b[38;5;28mlist\u001b[39m(unitless_conds.keys()), state_variables,\n\u001b[32m    365\u001b[39m                                \u001b[38;5;28mself\u001b[39m.verbose, solver=\u001b[38;5;28mself\u001b[39m.solver)\n",
      "\u001b[36mFile \u001b[39m\u001b[32m~/miniconda3/envs/pycalphad/lib/python3.13/site-packages/pycalphad/core/calculate.py:513\u001b[39m, in \u001b[36mcalculate\u001b[39m\u001b[34m(dbf, comps, phases, mode, output, fake_points, broadcast, parameters, to_xarray, phase_records, conditions, **kwargs)\u001b[39m\n\u001b[32m    510\u001b[39m     points = np.atleast_2d(points)\n\u001b[32m    512\u001b[39m     fp = fake_points \u001b[38;5;129;01mand\u001b[39;00m (phase_name == \u001b[38;5;28msorted\u001b[39m(active_phases)[\u001b[32m0\u001b[39m])\n\u001b[32m--> \u001b[39m\u001b[32m513\u001b[39m     phase_ds = \u001b[43m_compute_phase_values\u001b[49m\u001b[43m(\u001b[49m\u001b[43mnonvacant_components\u001b[49m\u001b[43m,\u001b[49m\u001b[43m \u001b[49m\u001b[43mstr_statevar_dict\u001b[49m\u001b[43m,\u001b[49m\u001b[43m \u001b[49m\u001b[43mstr_phase_local_conditions\u001b[49m\u001b[43m,\u001b[49m\n\u001b[32m    514\u001b[39m \u001b[43m                                     \u001b[49m\u001b[43mpoints\u001b[49m\u001b[43m,\u001b[49m\u001b[43m \u001b[49m\u001b[43mphase_record\u001b[49m\u001b[43m,\u001b[49m\u001b[43m \u001b[49m\u001b[43moutput\u001b[49m\u001b[43m,\u001b[49m\n\u001b[32m    515\u001b[39m \u001b[43m                                     \u001b[49m\u001b[43mmaximum_internal_dof\u001b[49m\u001b[43m,\u001b[49m\u001b[43m \u001b[49m\u001b[43mbroadcast\u001b[49m\u001b[43m=\u001b[49m\u001b[43mbroadcast\u001b[49m\u001b[43m,\u001b[49m\u001b[43m \u001b[49m\u001b[43mparameters\u001b[49m\u001b[43m=\u001b[49m\u001b[43mparameters\u001b[49m\u001b[43m,\u001b[49m\n\u001b[32m    516\u001b[39m \u001b[43m                                     \u001b[49m\u001b[43mlargest_energy\u001b[49m\u001b[43m=\u001b[49m\u001b[38;5;28;43mfloat\u001b[39;49m\u001b[43m(\u001b[49m\u001b[43mlargest_energy\u001b[49m\u001b[43m)\u001b[49m\u001b[43m,\u001b[49m\u001b[43m \u001b[49m\u001b[43mfake_points\u001b[49m\u001b[43m=\u001b[49m\u001b[43mfp\u001b[49m\u001b[43m)\u001b[49m\n\u001b[32m    517\u001b[39m     all_phase_data.append(phase_ds)\n\u001b[32m    519\u001b[39m fp_offset = \u001b[38;5;28mlen\u001b[39m(nonvacant_elements) \u001b[38;5;28;01mif\u001b[39;00m fake_points \u001b[38;5;28;01melse\u001b[39;00m \u001b[32m0\u001b[39m\n",
      "\u001b[36mFile \u001b[39m\u001b[32m~/miniconda3/envs/pycalphad/lib/python3.13/site-packages/pycalphad/core/calculate.py:271\u001b[39m, in \u001b[36m_compute_phase_values\u001b[39m\u001b[34m(components, statevar_dict, str_phase_local_conditions, points, phase_record, output, maximum_internal_dof, broadcast, parameters, fake_points, largest_energy)\u001b[39m\n\u001b[32m    268\u001b[39m \u001b[38;5;28;01mif\u001b[39;00m parameter_array_length == \u001b[32m0\u001b[39m:\n\u001b[32m    269\u001b[39m     \u001b[38;5;66;03m# No parameters specified\u001b[39;00m\n\u001b[32m    270\u001b[39m     phase_output = np.zeros(dof.shape[\u001b[32m0\u001b[39m], order=\u001b[33m'\u001b[39m\u001b[33mC\u001b[39m\u001b[33m'\u001b[39m)\n\u001b[32m--> \u001b[39m\u001b[32m271\u001b[39m     \u001b[43mphase_record\u001b[49m\u001b[43m.\u001b[49m\u001b[43mprop_2d\u001b[49m\u001b[43m(\u001b[49m\u001b[43mphase_output\u001b[49m\u001b[43m,\u001b[49m\u001b[43m \u001b[49m\u001b[43mdof\u001b[49m\u001b[43m,\u001b[49m\u001b[43m \u001b[49m\u001b[43moutput\u001b[49m\u001b[43m.\u001b[49m\u001b[43mencode\u001b[49m\u001b[43m(\u001b[49m\u001b[33;43m'\u001b[39;49m\u001b[33;43mutf-8\u001b[39;49m\u001b[33;43m'\u001b[39;49m\u001b[43m)\u001b[49m\u001b[43m)\u001b[49m\n\u001b[32m    272\u001b[39m \u001b[38;5;28;01melse\u001b[39;00m:\n\u001b[32m    273\u001b[39m     \u001b[38;5;66;03m# Vectorized parameter arrays\u001b[39;00m\n\u001b[32m    274\u001b[39m     phase_output = np.zeros((dof.shape[\u001b[32m0\u001b[39m], parameter_array_length), order=\u001b[33m'\u001b[39m\u001b[33mC\u001b[39m\u001b[33m'\u001b[39m)\n",
      "\u001b[36mFile \u001b[39m\u001b[32mpycalphad/core/phase_rec.pyx:219\u001b[39m, in \u001b[36mpycalphad.core.phase_rec.PhaseRecord.prop_2d\u001b[39m\u001b[34m()\u001b[39m\n",
      "\u001b[36mFile \u001b[39m\u001b[32mpycalphad/core/phase_rec.pyx:225\u001b[39m, in \u001b[36mpycalphad.core.phase_rec.PhaseRecord.prop_2d\u001b[39m\u001b[34m()\u001b[39m\n",
      "\u001b[36mFile \u001b[39m\u001b[32mpycalphad/core/phase_rec.pyx:53\u001b[39m, in \u001b[36mpycalphad.core.phase_rec.FastFunctionFactory.get_func\u001b[39m\u001b[34m()\u001b[39m\n",
      "\u001b[36mFile \u001b[39m\u001b[32m~/miniconda3/envs/pycalphad/lib/python3.13/site-packages/pycalphad/codegen/phase_record_factory.py:58\u001b[39m, in \u001b[36mPhaseRecordFactory.get_phase_property\u001b[39m\u001b[34m(self, phase_name, property_name, include_grad, include_hess)\u001b[39m\n\u001b[32m     56\u001b[39m undef_vals = repeat(\u001b[32m0.\u001b[39m, \u001b[38;5;28mlen\u001b[39m(undefs))\n\u001b[32m     57\u001b[39m out = out.xreplace(\u001b[38;5;28mdict\u001b[39m(\u001b[38;5;28mzip\u001b[39m(undefs, undef_vals)))\n\u001b[32m---> \u001b[39m\u001b[32m58\u001b[39m build_output = \u001b[43mbuild_functions\u001b[49m\u001b[43m(\u001b[49m\u001b[43mout\u001b[49m\u001b[43m,\u001b[49m\u001b[43m \u001b[49m\u001b[38;5;28;43mtuple\u001b[39;49m\u001b[43m(\u001b[49m\u001b[38;5;28;43mself\u001b[39;49m\u001b[43m.\u001b[49m\u001b[43mstate_variables\u001b[49m\u001b[43m \u001b[49m\u001b[43m+\u001b[49m\u001b[43m \u001b[49m\u001b[43mmod\u001b[49m\u001b[43m.\u001b[49m\u001b[43msite_fractions\u001b[49m\u001b[43m)\u001b[49m\u001b[43m,\u001b[49m\u001b[43m \u001b[49m\u001b[43mparameters\u001b[49m\u001b[43m=\u001b[49m\u001b[38;5;28;43mself\u001b[39;49m\u001b[43m.\u001b[49m\u001b[43mparam_symbols\u001b[49m\u001b[43m,\u001b[49m\n\u001b[32m     59\u001b[39m \u001b[43m                               \u001b[49m\u001b[43minclude_grad\u001b[49m\u001b[43m=\u001b[49m\u001b[43minclude_grad\u001b[49m\u001b[43m,\u001b[49m\u001b[43m \u001b[49m\u001b[43minclude_hess\u001b[49m\u001b[43m=\u001b[49m\u001b[43minclude_hess\u001b[49m\u001b[43m)\u001b[49m\n\u001b[32m     60\u001b[39m \u001b[38;5;28;01mreturn\u001b[39;00m build_output\n",
      "\u001b[36mFile \u001b[39m\u001b[32m~/miniconda3/envs/pycalphad/lib/python3.13/site-packages/pycalphad/core/cache.py:141\u001b[39m, in \u001b[36mlru_cache.<locals>.decorating_function.<locals>.wrapper\u001b[39m\u001b[34m(*args, **kwds)\u001b[39m\n\u001b[32m    139\u001b[39m         stats[HITS] += \u001b[32m1\u001b[39m\n\u001b[32m    140\u001b[39m         \u001b[38;5;28;01mreturn\u001b[39;00m result\n\u001b[32m--> \u001b[39m\u001b[32m141\u001b[39m result = \u001b[43muser_function\u001b[49m\u001b[43m(\u001b[49m\u001b[43m*\u001b[49m\u001b[43margs\u001b[49m\u001b[43m,\u001b[49m\u001b[43m \u001b[49m\u001b[43m*\u001b[49m\u001b[43m*\u001b[49m\u001b[43mkwds\u001b[49m\u001b[43m)\u001b[49m\n\u001b[32m    142\u001b[39m \u001b[38;5;28;01mwith\u001b[39;00m lock:\n\u001b[32m    143\u001b[39m     root, = nonlocal_root\n",
      "\u001b[36mFile \u001b[39m\u001b[32m~/miniconda3/envs/pycalphad/lib/python3.13/site-packages/pycalphad/codegen/sympydiff_utils.py:117\u001b[39m, in \u001b[36mbuild_functions\u001b[39m\u001b[34m(symengine_graph, variables, parameters, wrt, include_obj, include_grad, include_hess, func_options, grad_options, hess_options)\u001b[39m\n\u001b[32m    115\u001b[39m inp = sympify(variables + parameters)\n\u001b[32m    116\u001b[39m graph = sympify(symengine_graph).xreplace({zoo: oo})\n\u001b[32m--> \u001b[39m\u001b[32m117\u001b[39m func = \u001b[43mlambdify\u001b[49m\u001b[43m(\u001b[49m\u001b[43minp\u001b[49m\u001b[43m,\u001b[49m\u001b[43m \u001b[49m\u001b[43m[\u001b[49m\u001b[43mgraph\u001b[49m\u001b[43m]\u001b[49m\u001b[43m,\u001b[49m\u001b[43m \u001b[49m\u001b[43m*\u001b[49m\u001b[43m*\u001b[49m\u001b[43m_get_lambidfy_options\u001b[49m\u001b[43m(\u001b[49m\u001b[43mfunc_options\u001b[49m\u001b[43m)\u001b[49m\u001b[43m)\u001b[49m\n\u001b[32m    118\u001b[39m \u001b[38;5;28;01mif\u001b[39;00m include_grad \u001b[38;5;129;01mor\u001b[39;00m include_hess:\n\u001b[32m    119\u001b[39m     grad_graphs = \u001b[38;5;28mlist\u001b[39m(graph.diff(w).xreplace({zoo: oo}) \u001b[38;5;28;01mfor\u001b[39;00m w \u001b[38;5;129;01min\u001b[39;00m wrt)\n",
      "\u001b[36mFile \u001b[39m\u001b[32m~/miniconda3/envs/pycalphad/lib/python3.13/site-packages/symengine/__init__.py:58\u001b[39m, in \u001b[36mlambdify\u001b[39m\u001b[34m(args, exprs, **kwargs)\u001b[39m\n\u001b[32m     57\u001b[39m \u001b[38;5;28;01mdef\u001b[39;00m\u001b[38;5;250m \u001b[39m\u001b[34mlambdify\u001b[39m(args, exprs, **kwargs):\n\u001b[32m---> \u001b[39m\u001b[32m58\u001b[39m     \u001b[38;5;28;01mreturn\u001b[39;00m \u001b[43mLambdify\u001b[49m\u001b[43m(\u001b[49m\u001b[43margs\u001b[49m\u001b[43m,\u001b[49m\u001b[43m \u001b[49m\u001b[43m*\u001b[49m\u001b[43mexprs\u001b[49m\u001b[43m,\u001b[49m\u001b[43m \u001b[49m\u001b[43m*\u001b[49m\u001b[43m*\u001b[49m\u001b[43mkwargs\u001b[49m\u001b[43m)\u001b[49m\n",
      "\u001b[36mFile \u001b[39m\u001b[32msymengine_wrapper.pyx:5403\u001b[39m, in \u001b[36msymengine.lib.symengine_wrapper.Lambdify\u001b[39m\u001b[34m()\u001b[39m\n",
      "\u001b[36mFile \u001b[39m\u001b[32msymengine_wrapper.pyx:4991\u001b[39m, in \u001b[36msymengine.lib.symengine_wrapper._Lambdify.__init__\u001b[39m\u001b[34m()\u001b[39m\n",
      "\u001b[36mFile \u001b[39m\u001b[32msymengine_wrapper.pyx:5224\u001b[39m, in \u001b[36msymengine.lib.symengine_wrapper.LLVMDouble._init\u001b[39m\u001b[34m()\u001b[39m\n",
      "\u001b[31mRuntimeError\u001b[39m: T(-1.0)"
     ]
    }
   ],
   "source": [
    "heat_capacity = as_property('HM.T')\n",
    "heat_capacity.display_name = 'Isobaric Heat Capacity'\n",
    "heat_capacity.display_units = 'J/mol/K'\n",
    "plt.plot(wks.get(v.T), wks.get(heat_capacity))\n",
    "plt.xlabel(f'{v.T.display_name} [{v.T.display_units}]')\n",
    "plt.ylabel(f'{heat_capacity.display_name} [{heat_capacity.display_units}]')"
   ]
  },
  {
   "cell_type": "code",
   "execution_count": null,
   "metadata": {},
   "outputs": [
    {
     "name": "stdout",
     "output_type": "stream",
     "text": [
      "Help on function as_property in module pycalphad.property_framework.computed_property:\n",
      "\n",
      "as_property(inp: Union[str, symengine.lib.symengine_wrapper.Basic, pycalphad.property_framework.types.ComputableProperty]) -> pycalphad.property_framework.types.ComputableProperty\n",
      "\n"
     ]
    }
   ],
   "source": []
  },
  {
   "cell_type": "code",
   "execution_count": null,
   "metadata": {},
   "outputs": [],
   "source": []
  }
 ],
 "metadata": {
  "anaconda-cloud": {},
  "kernelspec": {
   "display_name": "pycalphad",
   "language": "python",
   "name": "python3"
  },
  "language_info": {
   "codemirror_mode": {
    "name": "ipython",
    "version": 3
   },
   "file_extension": ".py",
   "mimetype": "text/x-python",
   "name": "python",
   "nbconvert_exporter": "python",
   "pygments_lexer": "ipython3",
   "version": "3.13.2"
  }
 },
 "nbformat": 4,
 "nbformat_minor": 4
}
